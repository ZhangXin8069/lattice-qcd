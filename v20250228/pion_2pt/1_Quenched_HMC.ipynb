{
 "cells": [
  {
   "cell_type": "markdown",
   "metadata": {
    "slideshow": {
     "slide_type": "slide"
    }
   },
   "source": [
    "# 纯规范场（淬火近似）杂化 Monte Carlo\n",
    "\n",
    "#### 第七届格点量子场论暑期学校\n",
    "\n",
    "#### 蒋翔宇 理论物理研究所"
   ]
  },
  {
   "cell_type": "markdown",
   "metadata": {
    "slideshow": {
     "slide_type": "slide"
    }
   },
   "source": [
    "## 0 准备"
   ]
  },
  {
   "cell_type": "markdown",
   "metadata": {},
   "source": [
    "### 0.1 提交 GPU 任务\n",
    "\n",
    "```bash\n",
    "#!/usr/bin/env bash\n",
    "\n",
    "#SBATCH --partition nv100-sug # you should modify it to your partition\n",
    "#SBATCH --reservation zhangqa_71 # you should modify it to your reservation\n",
    "#SBATCH --nodes 1\n",
    "#SBATCH --ntasks-per-node 1\n",
    "#SBATCH --cpus-per-task 1\n",
    "#SBATCH --mem 10G\n",
    "#SBATCH --gres gpu:1  #! necessary for GPU nodes\n",
    "#SBATCH --job-name jiangxy\n",
    "#SBATCH --output %j.log\n",
    "\n",
    "module purge\n",
    "module load gcc/10.3.0-gcc-4.8.5\n",
    "module load git/2.40.0-gcc-10.3.0\n",
    "module load cmake/3.22.2-gcc-10.3.0\n",
    "module load cuda/11.4.4-gcc-10.3.0\n",
    "module load hpcx/2.14/hpcx-mt\n",
    "\n",
    "source /public/home/jiangxy/venv.public/bin/activate\n",
    "\n",
    "python -c \"import cupy;print(cupy.cuda.runtime.getDeviceProperties(0)['name'])\"\n",
    "```"
   ]
  },
  {
   "cell_type": "markdown",
   "metadata": {
    "slideshow": {
     "slide_type": "slide"
    }
   },
   "source": [
    "### 0.2 QUDA\n",
    "\n",
    "https://github.com/lattice/quda\n",
    "\n",
    "QUDA 是用于格点 QCD 计算的 C/C++ 库，使用 CUDA/ROCm 在 GPU 上进行并行计算。\n",
    "\n",
    "https://github.com/CLQCD/PyQUDA\n",
    "\n",
    "PyQUDA 是一个 QUDA 的包装，用于在 Python 中方便地调用 QUDA 的函数。"
   ]
  },
  {
   "cell_type": "markdown",
   "metadata": {
    "slideshow": {
     "slide_type": "slide"
    }
   },
   "source": [
    "### 0.3 Markov chain Monte Carlo (MCMC)\n",
    "\n",
    "根据格点上的路径积分形式，首先完成费米子部分积分\n",
    "$$\n",
    "\\mathcal{Z}=\\int\\mathcal{D}U_\\mu e^{-S_g(U_\\mu)}\\det\\left[\\mathcal{M}(U_\\mu)\\right]\\\\\n",
    "\\langle\\mathcal{O}\\rangle _\\text{fermion}=\\det\\left[\\mathcal{M}(U_\\mu)\\right]^{-1}\\int\\mathcal{D}\\bar\\psi\\mathcal{D}\\psi e^{-\\bar\\psi\\mathcal{M}(U_\\mu)\\psi}\\mathcal{O}\\\\\n",
    "\\langle\\mathcal{O}\\rangle=\\frac{1}{\\mathcal{Z}}\\int\\mathcal{D}U_\\mu e^{-S_g(U_\\mu)}\\det\\left[\\mathcal{M}(U_\\mu)\\right]\\langle\\mathcal{O}\\rangle _\\text{fermion}\n",
    "$$\n",
    "其中 $\\langle\\mathcal{O}\\rangle _\\text{fermion}$ 部分可以通过在某个规范场组态（configuration）上进行测量得到。\n",
    "\n",
    "现在考虑规范场积分步骤。显然 $U_\\mu$ 的维数过于巨大，我们只能采用 Monte Carlo 方法进行数值积分。重点抽样可以极大程度增加积分的精度，因此我们希望有一些规范场满足分布\n",
    "$$\n",
    "\\left\\{U_\\mu\\right\\}\\sim\\frac{1}{\\mathcal{Z}}e^{-S_g(U_\\mu)}\\det\\left[\\mathcal{M}(U_\\mu)\\right]\n",
    "$$\n",
    "这样，我们只需要进行简单的对组态平均即可完成积分\n",
    "$$\n",
    "\\frac{1}{\\mathcal{Z}}\\int\\mathcal{D}U_\\mu e^{-S_g(U_\\mu)}\\det\\left[\\mathcal{M}(U_\\mu)\\right]\\langle\\mathcal{O}\\rangle _\\text{fermion}\\approx\\frac{1}{N}\\sum_{\\left\\{U_\\mu\\right\\}}\\langle\\mathcal{O}\\rangle _\\text{fermion}\n",
    "$$\n",
    "\n",
    "对于纯规范场（淬火近似）的组态来说，有 $\\det\\left[\\mathcal{M}(U_\\mu)\\right]=1$，上述分布退化到\n",
    "$$\n",
    "\\mathcal{Z}=\\int\\mathcal{D}U_\\mu e^{-S_g(U_\\mu)},\\;\\left\\{U_\\mu\\right\\}\\sim\\frac{1}{\\mathcal{Z}}e^{-S_g(U_\\mu)}\n",
    "$$\n",
    "现在分布形式与统计力学中 Boltzmann 分布十分类似。这样我们可以通过 Markov 链 Monte Carlo 方法获得一些符合目标分布的规范场组态。\n",
    "\n",
    "需要注意的是，通过 MCMC 径迹（trajectory）采样获得的样本之间存在自相关（autocorrelation），直接进行样本平均将会低估误差，需要额外的步骤降低影响。"
   ]
  },
  {
   "cell_type": "markdown",
   "metadata": {
    "slideshow": {
     "slide_type": "slide"
    }
   },
   "source": [
    "## 1 初始化"
   ]
  },
  {
   "cell_type": "markdown",
   "metadata": {
    "slideshow": {
     "slide_type": "slide"
    }
   },
   "source": [
    "### 1.1 导入需要的 Python 包\n",
    "\n",
    "`exp` 和 `random` 用于判断是否接受新的规范场\n",
    "\n",
    "`perf_counter` 函数用于记时\n",
    "\n",
    "`pyquda` 包中的函数用于使用 GPU 加速格点 QCD 计算\n",
    "\n",
    "`hmc` 包来自 `hmc.py`，主要是对 PyQUDA 函数的封装"
   ]
  },
  {
   "cell_type": "code",
   "execution_count": 1,
   "metadata": {
    "slideshow": {
     "slide_type": "subslide"
    }
   },
   "outputs": [],
   "source": [
    "from math import exp\n",
    "from random import random\n",
    "from time import perf_counter\n",
    "\n",
    "from matplotlib import pyplot as plt\n",
    "\n",
    "from pyquda import init\n",
    "from pyquda.utils import io\n",
    "from pyquda.field import LatticeInfo, LatticeGauge, LatticeMom, Nc\n",
    "\n",
    "from hmc import HMC"
   ]
  },
  {
   "cell_type": "markdown",
   "metadata": {
    "slideshow": {
     "slide_type": "slide"
    }
   },
   "source": [
    "### 1.2 初始化 PyQUDA 并设置格子大小\n",
    "\n",
    "调用 `init()` 初始化 PyQUDA，`resource_path` 指向存储调优参数的文件夹。\n",
    "\n",
    "获取一个 `LatticeInfo` 实例用于之后的计算，这里我们设置了一个 $16^3\\times32$ 的格子。\n",
    "\n",
    "获取一个 `HMC` 实例并初始化。HMC 将 QUDA 函数包装为更易用的形式。\n",
    "\n",
    "获取一个 `LatticeGauge` 实例用于存取每一步的规范场。"
   ]
  },
  {
   "cell_type": "code",
   "execution_count": 2,
   "metadata": {
    "slideshow": {
     "slide_type": "subslide"
    }
   },
   "outputs": [
    {
     "name": "stdout",
     "output_type": "stream",
     "text": [
      "PyQUDA INFO: Using GPU grid [1, 1, 1, 1]\n",
      "PyQUDA INFO: Using QUDA_RESOURCE_PATH=.cache\n",
      "PyQUDA INFO: Using CUDA backend cupy\n",
      "Disabling GPU-Direct RDMA access\n",
      "Enabling peer-to-peer copy engine and direct load/store access\n",
      "QUDA 1.1.0 (git 1.1.0-d199bd36a-sm_60)\n",
      "CUDA Driver version = 12020\n",
      "CUDA Runtime version = 11080\n",
      "Graphic driver version = 535.183.01\n",
      "Found device 0: Tesla P100-PCIE-16GB\n",
      "Found device 1: Tesla P100-PCIE-16GB\n",
      "Found device 2: Tesla P100-PCIE-16GB\n",
      "Found device 3: Tesla P100-PCIE-16GB\n",
      "Using device 0: Tesla P100-PCIE-16GB\n",
      "Initializing monitoring on device 0: Tesla P100-PCIE-16GB\n",
      "WARNING: Data reordering done on GPU (set with QUDA_REORDER_LOCATION=GPU/CPU)\n",
      "Loaded 398 sets of cached parameters from .cache/tunecache.tsv\n",
      "WARNING: Using device memory pool allocator\n",
      "WARNING: Using pinned memory pool allocator\n",
      "cublasCreated successfully\n"
     ]
    }
   ],
   "source": [
    "init(resource_path=\".cache\")\n",
    "latt_info = LatticeInfo([16, 16, 16, 32])\n",
    "\n",
    "hmc = HMC(latt_info)\n",
    "hmc.initialize()\n",
    "\n",
    "gauge = LatticeGauge(latt_info)"
   ]
  },
  {
   "cell_type": "markdown",
   "metadata": {
    "slideshow": {
     "slide_type": "slide"
    }
   },
   "source": [
    "### 1.3 设置规范作用量参数"
   ]
  },
  {
   "cell_type": "markdown",
   "metadata": {
    "slideshow": {
     "slide_type": "slide"
    }
   },
   "source": [
    "### 1.3.0 分子动力学\n",
    "\n",
    "首先我们有规范场 $U_\\mu$，引入共轭动量 $\\pi_\\mu$，考虑 Hamiltonian\n",
    "$$\n",
    "\\mathcal{H}=\\frac{1}{2}\\sum_{x,\\mu}\\mathrm{Tr}\\left[\\pi_\\mu(x)\\pi_\\mu(x)\\right]+\\frac{\\beta}{N_c}\\sum_{x,\\mu,\\nu\\gt\\mu}\\mathfrak{Re}\\mathrm{Tr}\\left[\\mathbb{I}_{N_c}-U_\\mu(x)A_{\\mu,\\nu}(x)\\right]\n",
    "$$\n",
    "共轭动量 $\\pi_\\mu(x)\\in\\mathfrak{su}(3)$，为无迹 Hermitian 矩阵。\n",
    "\n",
    "有 Hamiltonian 正则方程\n",
    "$$\n",
    "\\frac{\\mathrm{d}}{\\mathrm{d}t}\\pi_\\mu(x)=-\\frac{\\partial S_g(U_\\mu)}{\\partial U_\\mu(x)},\\;\\frac{\\mathrm{d}}{\\mathrm{d}t}U_\\mu(x)=i\\pi_\\mu(x)U_\\mu(x)\n",
    "$$\n",
    "\n",
    "我们希望通过分子动力学过程使得\n",
    "$$\n",
    "\\{\\pi_\\mu,U_\\mu\\}\\sim e^{-\\mathcal{H}}=e^{-\\frac{1}{2}\\sum_{x,\\mu}\\mathrm{Tr}\\left[\\pi_\\mu(x)\\pi_\\mu(x)\\right]}e^{-\\frac{\\beta}{N_c}\\sum_{x,\\mu,\\nu\\gt\\mu}\\mathfrak{Re}\\mathrm{Tr}\\left[\\mathbb{I}_{N_c}-U_\\mu(x)A_{\\mu,\\nu}(x)\\right]}\n",
    "$$\n",
    "显然 $\\pi_\\mu$ 和 $U_\\mu$ 的分布是互相独立的。"
   ]
  },
  {
   "cell_type": "markdown",
   "metadata": {
    "slideshow": {
     "slide_type": "slide"
    }
   },
   "source": [
    "#### 1.3.1 Wilson 规范作用量\n",
    "\n",
    "$$\n",
    "S_g(U_\\mu)=\\frac{\\beta}{N_c}\\sum_{x,\\mu,\\nu\\gt\\mu}\\mathfrak{Re}\\mathrm{Tr}\\left[\\mathbb{I}_{N_c}-U_\\mu(x)U_\\nu(x+\\hat{\\mu})U^\\dagger_\\mu(x+\\hat{\\nu})U^\\dagger_\\nu(x)\\right]\n",
    "$$\n",
    "\n",
    "![plaquette](plaquette.drawio.svg)\n",
    "\n",
    "对于一个由规范链接收尾相连组成的圈，总可以使用方向矢量来表示。例如上图的圈可以写成 $\\mathrm{Tr}\\left[U_\\mu(x)U_\\nu(x+\\hat{\\mu})U^\\dagger_\\mu(x+\\hat{\\nu})U^\\dagger_\\nu(x)\\right]\\sim\\left[\\mu,\\nu,-\\mu,-\\nu\\right]\\text{ at }x$。\n",
    "\n",
    "忽略常数项，Wilson 规范作用量记为\n",
    "$$\n",
    "S_g(U_\\mu)=-\\frac{\\beta}{N_c}\\sum_{x,\\mu,\\nu\\gt\\mu}\\mathfrak{Re}\\left[\\mu,\\nu,-\\mu,-\\nu\\right]\n",
    "$$\n",
    "\n",
    "展开 $\\sum_{\\nu\\gt\\mu}$\n",
    "$$\n",
    "\\begin{aligned}\n",
    "S_g(U_\\mu)=-\\frac{\\beta}{N_c}\\sum_{x}\\mathfrak{Re}\\left\\{\\left[x,y,-x,-y\\right]+\\left[x,z,-x,-z\\right]+\\left[y,z,-y,-z\\right]\\right.\\\\\n",
    "\\left.+\\left[x,t,-x,-t\\right]+\\left[y,t,-y,-t\\right]+\\left[z,t,-z,-t\\right]\\right\\}\n",
    "\\end{aligned}\n",
    "$$\n",
    "\n",
    "我们使用 $0,1,2,3$ 来标记 $x,y,z,t$ 四个方向，$4,5,6,7$ 来标记相应的反方向\n",
    "$$\n",
    "\\begin{aligned}\n",
    "S_g(U_\\mu)=-\\frac{\\beta}{N_c}\\sum_{x}\\mathfrak{Re}\\left\\{\\left[0,1,4,5\\right]+\\left[0,2,4,6\\right]+\\left[1,2,5,6\\right]\\right.\\\\\n",
    "\\left.+\\left[0,3,4,7\\right]+\\left[1,3,5,7\\right]+\\left[2,3,6,7\\right]\\right\\}\n",
    "\\end{aligned}\n",
    "$$\n",
    "\n",
    "PyQUDA 会处理取实部操作，对于特定坐标 $x$，最终输入的作用量为\n",
    "$$\n",
    "\\begin{aligned}\n",
    "S'_g(U_\\mu)=-\\frac{\\beta}{N_c}\\left\\{\\left[0,1,4,5\\right]+\\left[0,2,4,6\\right]+\\left[1,2,5,6\\right]\\right.\\\\\n",
    "\\left.+\\left[0,3,4,7\\right]+\\left[1,3,5,7\\right]+\\left[2,3,6,7\\right]\\right\\}\n",
    "\\end{aligned}\n",
    "$$\n",
    "\n",
    "$$\n",
    "\\beta=\\frac{2N_c}{g^2}\n",
    "$$"
   ]
  },
  {
   "cell_type": "code",
   "execution_count": 3,
   "metadata": {
    "slideshow": {
     "slide_type": "subslide"
    }
   },
   "outputs": [],
   "source": [
    "u_0 = 0.855453\n",
    "beta = 6.20\n",
    "input_path = [\n",
    "    [0, 1, 4, 5],\n",
    "    [0, 2, 4, 6],\n",
    "    [1, 2, 5, 6],\n",
    "    [0, 3, 4, 7],\n",
    "    [1, 3, 5, 7],\n",
    "    [2, 3, 6, 7],\n",
    "]\n",
    "input_coeff = [\n",
    "    -beta / Nc,\n",
    "    -beta / Nc,\n",
    "    -beta / Nc,\n",
    "    -beta / Nc,\n",
    "    -beta / Nc,\n",
    "    -beta / Nc,\n",
    "]"
   ]
  },
  {
   "cell_type": "markdown",
   "metadata": {
    "slideshow": {
     "slide_type": "slide"
    }
   },
   "source": [
    "#### 1.3.2 Wilson 规范力\n",
    "\n",
    "根据 Hamiltonian 正则方程\n",
    "$$\n",
    "\\delta U_\\mu(x)=i\\pi_\\mu(x)U_\\mu(x)\\delta t\n",
    "$$\n",
    "\n",
    "分子动力学积分需要 Hamiltonian（总能量）保持不变\n",
    "$$\n",
    "\\delta H=0\n",
    "$$\n",
    "\n",
    "那么对某个特定位置 $x$ 的部分变分\n",
    "$$\n",
    "\\begin{aligned}\n",
    "0=&\\sum_{\\mu}\\mathrm{Tr}\\left[\\delta\\pi_\\mu(x)\\pi_\\mu(x)\\right]\\\\\n",
    "&-\\frac{\\beta}{N_c}\\sum_{\\mu,\\nu\\ne\\mu}\\mathfrak{Re}\\mathrm{Tr}\\left[\\delta U_\\mu(x)A_{\\mu,\\nu}(x)+\\delta U_\\mu(x)A_{\\mu,-\\nu}(x)\\right]\\delta t\\\\\n",
    "=&\\sum_{x,\\mu}\\mathrm{Tr}\\left[\\delta\\pi_\\mu(x)\\pi_\\mu(x)\\right]\\\\\n",
    "&-\\frac{\\beta}{N_c}\\sum_{x,\\mu,\\nu\\ne\\mu}\\mathfrak{Re}\\mathrm{Tr}\\left[i\\pi_\\mu(x)U_\\mu(x)A_{\\mu,\\nu}(x)+i\\pi_\\mu(x)U_\\mu(x)A_{\\mu,-\\nu}(x)\\right]\\delta t\\\\\n",
    "=&\\sum_{x,\\mu}\\mathrm{Tr}\\left[\\delta\\pi_\\mu(x)\\pi_\\mu(x)\\right]\\\\\n",
    "&-\\frac{\\beta}{N_c}\\sum_{x,\\mu,\\nu\\ne\\mu}\\mathrm{Tr}\\left\\{i\\pi_\\mu(x)\\left[U_\\mu(x)A_{\\mu,\\nu}(x)+U_\\mu(x)A_{\\mu,-\\nu}(x)\\right]_\\text{Traceless,Anti-Hermitian}\\right\\}\\delta t\n",
    "\\end{aligned}\n",
    "$$\n",
    "\n",
    "$$\n",
    "\\begin{aligned}\n",
    "&\\mathfrak{Re}\\mathrm{Tr}\\left[i\\pi_\\mu(x)U_\\mu(x)A_{\\mu,\\nu}(x)\\right]\\\\\n",
    "=&\\frac{1}{2}\\mathrm{Tr}\\left[i\\pi_\\mu(x)U_\\mu(x)A_{\\mu,\\nu}(x)-iA^\\dagger_{\\mu,\\nu}U^\\dagger_\\mu(x)\\pi_\\mu(x)\\right]\\\\\n",
    "=&\\mathrm{Tr}\\left\\{i\\pi_\\mu(x)\\left[U_\\mu(x)A_{\\mu,\\nu}(x)\\right]_\\text{Anti-Hermitian}\\right\\}\n",
    "\\end{aligned}\n",
    "$$\n",
    "\n",
    "![plaquette](plaquette.drawio.svg)\n",
    "\n",
    "上式应当对任意的 $\\pi_\\mu(x)$ 成立\n",
    "$$\n",
    "\\delta\\pi_\\mu(x)=\\frac{\\beta}{N_c}\\sum_{\\nu\\ne\\mu}i\\left[U_\\mu(x)A_{\\mu,\\nu}(x)+U_\\mu(x)A_{\\mu,-\\nu}(x)\\right]_\\text{Traceless,Anti-Hermitian}\\delta t\n",
    "$$\n",
    "\n",
    "QUDA 中动量场实际为 $i\\pi_\\mu$，对规范力添加了一个负号并应用无迹反 Hermitian 操作\n",
    "$$\n",
    "F'_g(x,U_\\mu)=\\frac{\\beta}{N_c}\\sum_{\\nu\\ne\\mu}\\left\\{[\\mu,\\nu,-\\mu,-\\nu]+[\\mu,-\\nu,-\\mu,\\nu]\\right\\}\n",
    "$$\n",
    "\n",
    "以 $\\mu=x$ 为例，按照之前约定使用数字代表方向，对于特定坐标 $x$，最终输入的规范力为\n",
    "$$\n",
    "\\begin{aligned}\n",
    "F'_g(U_\\mu)=\\frac{\\beta}{N_c}\\left\\{[0,1,4,5]+[0,5,4,1]+[0,2,4,6]\\right.\\\\\n",
    "\\left.+[0,6,4,2]+[0,3,4,7]+[0,7,4,3]\\right\\}\n",
    "\\end{aligned}\n",
    "$$"
   ]
  },
  {
   "cell_type": "code",
   "execution_count": 4,
   "metadata": {
    "slideshow": {
     "slide_type": "subslide"
    }
   },
   "outputs": [],
   "source": [
    "input_path2 = [\n",
    "    [\n",
    "        [0, 1, 4, 5],\n",
    "        [0, 5, 4, 1],\n",
    "        [0, 2, 4, 6],\n",
    "        [0, 6, 4, 2],\n",
    "        [0, 3, 4, 7],\n",
    "        [0, 7, 4, 3],\n",
    "    ],\n",
    "    [\n",
    "        [1, 4, 5, 0],\n",
    "        [1, 0, 5, 4],\n",
    "        [1, 2, 5, 6],\n",
    "        [1, 6, 5, 2],\n",
    "        [1, 3, 5, 7],\n",
    "        [1, 7, 5, 3],\n",
    "    ],\n",
    "    [\n",
    "        [2, 4, 6, 0],\n",
    "        [2, 0, 6, 4],\n",
    "        [2, 5, 6, 1],\n",
    "        [2, 1, 6, 5],\n",
    "        [2, 3, 6, 7],\n",
    "        [2, 7, 6, 3],\n",
    "    ],\n",
    "    [\n",
    "        [3, 4, 7, 0],\n",
    "        [3, 0, 7, 4],\n",
    "        [3, 5, 7, 1],\n",
    "        [3, 1, 7, 5],\n",
    "        [3, 6, 7, 2],\n",
    "        [3, 2, 7, 6],\n",
    "    ],\n",
    "]\n",
    "input_coeff2 = [\n",
    "    beta / Nc,\n",
    "    beta / Nc,\n",
    "    beta / Nc,\n",
    "    beta / Nc,\n",
    "    beta / Nc,\n",
    "    beta / Nc,\n",
    "]"
   ]
  },
  {
   "cell_type": "markdown",
   "metadata": {
    "slideshow": {
     "slide_type": "slide"
    }
   },
   "source": [
    "### 1.4 设置 Markov 链（径迹）参数\n",
    "\n",
    "Markov 链从 0 开始（单位场），总共运行 2000 步，前 500 步不考虑 Metropolis 算法而是直接接受，使得系统达到热平衡。\n",
    "\n",
    "每一步的演化时间为 1.0，每次演化（分子动力学积分）分成 20 小步以降低积分误差。"
   ]
  },
  {
   "cell_type": "code",
   "execution_count": 5,
   "metadata": {
    "slideshow": {
     "slide_type": "subslide"
    }
   },
   "outputs": [],
   "source": [
    "start = 0\n",
    "stop = 2000\n",
    "warm = 500\n",
    "save = 50\n",
    "t = 1.0\n",
    "n_steps = 20"
   ]
  },
  {
   "cell_type": "markdown",
   "metadata": {
    "slideshow": {
     "slide_type": "slide"
    }
   },
   "source": [
    "## 2 HMC"
   ]
  },
  {
   "cell_type": "markdown",
   "metadata": {
    "slideshow": {
     "slide_type": "slide"
    }
   },
   "source": [
    "### 2.1 输出初始状态统计信息\n",
    "\n",
    "小方格（plaquette）作为最简单的可观测量，表征规范场势能。\n",
    "$$\n",
    "\\text{Plaquette}(U_\\mu)=\\frac{1}{6VN_c}\\sum_{x,\\mu,\\nu\\gt\\mu}\\mathfrak{Re}\\mathrm{Tr}\\left[U_\\mu(x)U_\\nu(x+\\hat{\\mu})U^\\dagger_\\mu(x+\\hat{\\nu})U^\\dagger_\\nu(x)\\right]\n",
    "$$"
   ]
  },
  {
   "cell_type": "code",
   "execution_count": 6,
   "metadata": {
    "slideshow": {
     "slide_type": "subslide"
    }
   },
   "outputs": [
    {
     "name": "stdout",
     "output_type": "stream",
     "text": [
      "\n",
      "Trajectory 0:\n",
      "plaquette = 1.0\n",
      "\n"
     ]
    }
   ],
   "source": [
    "plaquette = [hmc.plaquette()]\n",
    "print(\"\\n\" f\"Trajectory {start}:\\n\" f\"plaquette = {plaquette[-1]}\\n\")"
   ]
  },
  {
   "cell_type": "markdown",
   "metadata": {
    "slideshow": {
     "slide_type": "slide"
    }
   },
   "source": [
    "### 2.2 第 1 步开始\n",
    "\n",
    "计数器设置为 `start`。"
   ]
  },
  {
   "cell_type": "code",
   "execution_count": 8,
   "metadata": {
    "slideshow": {
     "slide_type": "subslide"
    }
   },
   "outputs": [
    {
     "name": "stdout",
     "output_type": "stream",
     "text": [
      "Trajectory 1:\n",
      "\n"
     ]
    }
   ],
   "source": [
    "i = start\n",
    "s = perf_counter()\n",
    "print(f\"Trajectory {i + 1}:\\n\")"
   ]
  },
  {
   "cell_type": "markdown",
   "metadata": {
    "slideshow": {
     "slide_type": "slide"
    }
   },
   "source": [
    "### 2.3 根据 Gaussian 分布产生随机的共轭动量场\n",
    "\n",
    "$$\n",
    "\\pi_\\mu(x)\\sim e^{-\\frac{1}{2}\\mathrm{Tr}\\left[\\pi_\\mu(x)\\pi_\\mu(x)\\right]}\\\\\n",
    "\\pi^\\dagger_\\mu(x)=\\pi_\\mu(x),\\mathrm{Tr}\\left[\\pi_\\mu(x)\\right]=0\n",
    "$$\n",
    "\n",
    "使用 Box–Muller 变换从均匀分布随机数产生高斯分布随机数。\n",
    "\n",
    "QUDA 实际产生 $i\\pi_\\mu(x)$ 作为动量场，可以通过 `saveMom()` 取出。"
   ]
  },
  {
   "cell_type": "code",
   "execution_count": 9,
   "metadata": {
    "slideshow": {
     "slide_type": "subslide"
    }
   },
   "outputs": [
    {
     "name": "stdout",
     "output_type": "stream",
     "text": [
      "Creating Gaussian distributed Lie algebra field\n"
     ]
    }
   ],
   "source": [
    "hmc.gaussMom(i)"
   ]
  },
  {
   "cell_type": "markdown",
   "metadata": {
    "slideshow": {
     "slide_type": "slide"
    }
   },
   "source": [
    "### 2.4 计算 Hamiltonion（体系能量）\n",
    "\n",
    "$$\n",
    "\\begin{aligned}\n",
    "\\mathcal{H}(\\pi_\\mu,U_\\mu)=&\\frac{1}{2}\\sum_{x,\\mu}\\mathrm{Tr}\\left[\\pi_\\mu(x)\\pi_\\mu(x)\\right]\\\\\n",
    "&+\\frac{\\beta}{N_c}\\sum_{x,\\mu,\\nu\\gt\\mu}\\mathfrak{Re}\\mathrm{Tr}\\left[\\mathbb{I}_{N_c}-U_\\mu(x)U_\\nu(x+\\hat{\\mu})U^\\dagger_\\mu(x+\\hat{\\nu})U^\\dagger_\\nu(x)\\right]\n",
    "\\end{aligned}\n",
    "$$\n",
    "\n",
    "`actionMom()` 用于计算动能项。\n",
    "\n",
    "`actionGauge()` 用于计算势能项。此时需要输入表示作用量具体组成的 `input_path` 与 `input_coeff`。\n",
    "\n",
    "此处动能和势能项可以添加任意常数，QUDA 实际使用下式计算总能量。\n",
    "$$\n",
    "\\begin{aligned}\n",
    "\\mathcal{H}(\\pi_\\mu,U_\\mu)=&\\frac{1}{2}\\sum_{x,\\mu}\\left\\{\\mathrm{Tr}\\left[\\pi_\\mu(x)\\pi_\\mu(x)\\right]-8\\right\\}\\\\\n",
    "&-\\frac{\\beta}{N_c}\\sum_{x,\\mu,\\nu\\gt\\mu}\\mathfrak{Re}\\mathrm{Tr}\\left[U_\\mu(x)U_\\nu(x+\\hat{\\mu})U^\\dagger_\\mu(x+\\hat{\\nu})U^\\dagger_\\nu(x)\\right]\n",
    "\\end{aligned}\n",
    "$$"
   ]
  },
  {
   "cell_type": "code",
   "execution_count": 10,
   "metadata": {
    "slideshow": {
     "slide_type": "subslide"
    }
   },
   "outputs": [
    {
     "name": "stdout",
     "output_type": "stream",
     "text": [
      "P_old = -4875878.399999999, K_old = 908.6789133555291\n",
      "\n"
     ]
    }
   ],
   "source": [
    "kinetic_old = hmc.actionMom()\n",
    "potential_old = hmc.actionGauge(input_path, input_coeff)\n",
    "energy_old = kinetic_old + potential_old\n",
    "print(f\"P_old = {potential_old}, K_old = {kinetic_old}\\n\")"
   ]
  },
  {
   "cell_type": "code",
   "execution_count": 11,
   "metadata": {
    "slideshow": {
     "slide_type": "subslide"
    }
   },
   "outputs": [
    {
     "name": "stdout",
     "output_type": "stream",
     "text": [
      "908.6789133553393\n",
      "-4875878.4\n"
     ]
    }
   ],
   "source": [
    "tmp_gauge = LatticeGauge(latt_info)\n",
    "tmp_mom = LatticeMom(latt_info)\n",
    "hmc.saveGauge(tmp_gauge)\n",
    "hmc.saveMom(tmp_mom)\n",
    "\n",
    "print(\n",
    "    (tmp_mom.data[:, :, :, :, :, :, :6] ** 2).sum()\n",
    "    + (tmp_mom.data[:, :, :, :, :, :, 6:] ** 2).sum() / 2\n",
    "    - 4 * 4 * latt_info.volume\n",
    ")\n",
    "print(-beta / Nc * hmc.plaquette() * Nc * 6 * latt_info.volume)"
   ]
  },
  {
   "cell_type": "markdown",
   "metadata": {
    "slideshow": {
     "slide_type": "slide"
    }
   },
   "source": [
    "### 2.5 分子动力学积分\n",
    "\n",
    "[Computer Physics Communications, Volume 151, Issue 3, 1 April 2003, Pages 272-314](https://www.sciencedirect.com/science/article/abs/pii/S0010465502007543)\n",
    "\n",
    "根据 Hamiltonian 正则方程，有分子动力学积分步骤\n",
    "$$\n",
    "\\pi'_\\mu(x)=\\pi_\\mu(x)+F_g(U_\\mu)\\delta t,\\;U'_\\mu(x)=e^{i\\pi_\\mu(x)\\delta t}U_\\mu(x)\n",
    "$$\n",
    "将其分为更新规范场 $U_\\mu(x)$ 的 $\\mathcal{A}$ 步骤和共轭动量场 $\\pi_\\mu(x)$ 的 $\\mathcal{B}$ 步骤。\n",
    "\n",
    "对于 Hamiltonian 体系的微正则系综，需要采用保辛结构积分保证总能量守恒。假设积分步长为 $\\Delta t$，一个 2 阶的保辛结构积分形式为\n",
    "$$\n",
    "\\mathcal{B}(\\Delta t/2)\\mathcal{A}(\\Delta t)\\mathcal{B}(\\Delta t/2)\n",
    "$$\n",
    "数值算法无法取到无穷小的 $\\Delta t$，导致积分完成后总能量出现一个小的偏离 $\\Delta\\mathcal{H}\\sim\\mathcal{O}(\\Delta t^3)$。通常我们会连续进行 $N$ 次 $\\Delta t$ 积分直到积分时间为 $\\tau$，那么总的偏离来到 $\\mathcal{O}(\\tau\\Delta t^2)=\\mathcal{O}(\\tau^3N^{-2})$。"
   ]
  },
  {
   "cell_type": "code",
   "execution_count": 12,
   "metadata": {
    "slideshow": {
     "slide_type": "subslide"
    }
   },
   "outputs": [],
   "source": [
    "dt = t / n_steps\n",
    "for _ in range(n_steps):\n",
    "    hmc.updateMom(input_path2, input_coeff2, dt / 2)\n",
    "    hmc.updateGauge(dt)\n",
    "    hmc.updateMom(input_path2, input_coeff2, dt / 2)"
   ]
  },
  {
   "cell_type": "markdown",
   "metadata": {
    "slideshow": {
     "slide_type": "slide"
    }
   },
   "source": [
    "### 2.6 规范场重投影\n",
    "\n",
    "由于数值计算的舍入误差，规范场将会略微偏离 SU(3)，需要 `reunitGauge()` 重新投影。"
   ]
  },
  {
   "cell_type": "code",
   "execution_count": 14,
   "metadata": {
    "slideshow": {
     "slide_type": "subslide"
    }
   },
   "outputs": [],
   "source": [
    "hmc.reunitGauge(1e-15)"
   ]
  },
  {
   "cell_type": "markdown",
   "metadata": {
    "slideshow": {
     "slide_type": "slide"
    }
   },
   "source": [
    "### 2.7 计算新的 Hamiltonion（体系能量）\n",
    "\n",
    "$$\n",
    "\\begin{aligned}\n",
    "\\mathcal{H}(\\pi'_\\mu,U'_\\mu)=&\\frac{1}{2}\\sum_{x,\\mu}\\left\\{\\mathrm{Tr}\\left[\\pi'_\\mu(x)\\pi'_\\mu(x)\\right]-8\\right\\}\\\\\n",
    "&-\\frac{\\beta}{N_c}\\sum_{x,\\mu,\\nu\\gt\\mu}\\mathfrak{Re}\\mathrm{Tr}\\left[U'_\\mu(x)U'_\\nu(x+\\hat{\\mu})U^{\\prime\\dagger}_\\mu(x+\\hat{\\nu})U^{\\prime\\dagger}_\\nu(x)\\right]\n",
    "\\end{aligned}\n",
    "$$"
   ]
  },
  {
   "cell_type": "code",
   "execution_count": 15,
   "metadata": {
    "slideshow": {
     "slide_type": "subslide"
    }
   },
   "outputs": [
    {
     "name": "stdout",
     "output_type": "stream",
     "text": [
      "P = -4136377.3380672657, K = -729554.9059053267\n",
      "\n"
     ]
    }
   ],
   "source": [
    "kinetic = hmc.actionMom()\n",
    "potential = hmc.actionGauge(input_path, input_coeff)\n",
    "energy = kinetic + potential\n",
    "print(f\"P = {potential}, K = {kinetic}\\n\")"
   ]
  },
  {
   "cell_type": "markdown",
   "metadata": {
    "slideshow": {
     "slide_type": "slide"
    }
   },
   "source": [
    "### 2.8 判断是否接受新的规范场\n",
    "\n",
    "考虑 Markov 链的细致平衡条件\n",
    "$$\n",
    "P(U'_\\mu|U_\\mu)\\pi(U_\\mu)=P(U_\\mu|U'_\\mu)\\pi(U'_\\mu)\n",
    "$$\n",
    "\n",
    "将状态转移概率 $P(U'_\\mu|U_\\mu)$ 拆分为提议分布和接受概率 $g(U'_\\mu|U_\\mu)A(U'_\\mu|U_\\mu)$\n",
    "$$\n",
    "\\frac{A(U'_\\mu|U_\\mu)}{A(U_\\mu|U'_\\mu)}=\\frac{g(U_\\mu|U'_\\mu)\\pi(U'_\\mu)}{g(U'_\\mu|U_\\mu)\\pi(U_\\mu)}\n",
    "$$\n",
    "\n",
    "将 Hamiltonian 动能项记为 $\\mathcal{K}$，势能项记为 $\\mathcal{P}$，那么 $\\mathcal{H}=\\mathcal{K}+\\mathcal{P}$。\n",
    "\n",
    "对于分子动力学积分步骤，两个态互相转变分别需要共轭动量 $\\pi_\\mu$ 和 $-\\pi'_\\mu$，那么提议分布有比值\n",
    "$$\n",
    "\\frac{g(U_\\mu|U'_\\mu)}{g(U'_\\mu|U_\\mu)}=\\frac{e^{-\\mathcal{K}'}}{e^{-\\mathcal{K}}}\n",
    "$$\n",
    "平衡时，态密度 $\\pi(U_\\mu)=e^{-\\mathcal{P}}$\n",
    "$$\n",
    "\\frac{A(U'_\\mu|U_\\mu)}{A(U_\\mu|U'_\\mu)}=\\frac{e^{-\\mathcal{K}'}\\pi(U'_\\mu)}{e^{-\\mathcal{K}}\\pi(U_\\mu)}=e^{-\\mathcal{H}'+\\mathcal{H}}\n",
    "$$\n",
    "\n",
    "Metropolis 算法给出一种接受率选择\n",
    "$$\n",
    "A(U'_\\mu|U_\\mu)=\\min\\left[1,e^{-\\mathcal{H}'+\\mathcal{H}}\\right]\n",
    "$$\n",
    "\n",
    "`random()` 产生一个 $[0, 1)$ 区间内均匀分布的浮点数 $a$，通过 $a<A(\\pi'_\\mu,U'_\\mu;\\pi_\\mu,U_\\mu)$ 决定是否接受新的状态。当前步数低于 `warm` 时，永远接受新的状态。\n",
    "\n",
    "若接受，则通过 `saveGauge()` 保存当前规范场；若拒绝，则通过 `loadGauge()` 恢复旧的规范场。"
   ]
  },
  {
   "cell_type": "code",
   "execution_count": 16,
   "metadata": {
    "slideshow": {
     "slide_type": "subslide"
    }
   },
   "outputs": [
    {
     "name": "stdout",
     "output_type": "stream",
     "text": [
      "Delta_P = 739501.0619327337, Delta_K = -730463.5848186823\n",
      "Delta_E = 9037.47711405158\n",
      "acceptance rate = 0.00%\n",
      "accept? True\n",
      "\n"
     ]
    }
   ],
   "source": [
    "accept = random() < exp(energy_old - energy)\n",
    "if accept or i < warm:\n",
    "    hmc.saveGauge(gauge)\n",
    "else:\n",
    "    hmc.loadGauge(gauge)\n",
    "print(\n",
    "    f\"Delta_P = {potential - potential_old}, Delta_K = {kinetic - kinetic_old}\\n\"\n",
    "    f\"Delta_E = {energy - energy_old}\\n\"\n",
    "    f\"acceptance rate = {min(1, exp(energy_old - energy))*100:.2f}%\\n\"\n",
    "    f\"accept? {accept or i < warm}\\n\"\n",
    ")"
   ]
  },
  {
   "cell_type": "markdown",
   "metadata": {
    "slideshow": {
     "slide_type": "slide"
    }
   },
   "source": [
    "### 2.9 第 1 步结束，输出统计信息\n",
    "\n",
    "根据 `save` 参数决定是否保存当前规范场为组态文件。"
   ]
  },
  {
   "cell_type": "code",
   "execution_count": 17,
   "metadata": {
    "slideshow": {
     "slide_type": "subslide"
    }
   },
   "outputs": [
    {
     "name": "stdout",
     "output_type": "stream",
     "text": [
      "Trajectory 1:\n",
      "plaquette = 0.8483348022106675\n",
      "P_old = -4875878.399999999, K_old = 908.6789133555291\n",
      "P = -4136377.3380672657, K = -729554.9059053267\n",
      "Delta_P = 739501.0619327337, Delta_K = -730463.5848186823\n",
      "Delta_E = 9037.47711405158\n",
      "acceptance rate = 0.00%\n",
      "accept? True\n",
      "HMC time = 857.453 secs\n",
      "\n"
     ]
    }
   ],
   "source": [
    "plaquette.append(hmc.plaquette())\n",
    "print(\n",
    "    f\"Trajectory {i + 1}:\\n\"\n",
    "    f\"plaquette = {plaquette[-1]}\\n\"\n",
    "    f\"P_old = {potential_old}, K_old = {kinetic_old}\\n\"\n",
    "    f\"P = {potential}, K = {kinetic}\\n\"\n",
    "    f\"Delta_P = {potential - potential_old}, Delta_K = {kinetic - kinetic_old}\\n\"\n",
    "    f\"Delta_E = {energy - energy_old}\\n\"\n",
    "    f\"acceptance rate = {min(1, exp(energy_old - energy))*100:.2f}%\\n\"\n",
    "    f\"accept? {accept or i < warm}\\n\"\n",
    "    f\"HMC time = {perf_counter() - s:.3f} secs\\n\"\n",
    ")\n",
    "\n",
    "if (i + 1) % save == 0:\n",
    "    io.writeNPYGauge(f\"./DATA/cfg/cfg_{i + 1}.npy\", gauge)"
   ]
  },
  {
   "cell_type": "markdown",
   "metadata": {
    "slideshow": {
     "slide_type": "slide"
    }
   },
   "source": [
    "### 2.10 循环 2.2～2.9\n",
    "\n",
    "循环从 `start` 开始，至 `stop` 结束。其中第 1 步在循环外完成，计数器从 `start + 1` 开始。"
   ]
  },
  {
   "cell_type": "code",
   "execution_count": 18,
   "metadata": {
    "slideshow": {
     "slide_type": "subslide"
    }
   },
   "outputs": [
    {
     "name": "stdout",
     "output_type": "stream",
     "text": [
      "Creating Gaussian distributed Lie algebra field\n",
      "Trajectory 2:\n",
      "plaquette = 0.7825983901313961\n",
      "P_old = -4136377.3380672657, K_old = -1005.1336467889821\n",
      "P = -3815854.5863164477, K = -318504.9631533522\n",
      "Delta_P = 320522.751750818, Delta_K = -317499.8295065632\n",
      "Delta_E = 3022.9222442549653\n",
      "acceptance rate = 0.00%\n",
      "accept? True\n",
      "HMC time = 0.155 secs\n",
      "\n",
      "Creating Gaussian distributed Lie algebra field\n",
      "Trajectory 3:\n",
      "plaquette = 0.7363945870715864\n",
      "P_old = -3815854.5863164477, K_old = -344.0095680867393\n",
      "P = -3590570.4609792675, K = -223697.42204911186\n",
      "Delta_P = 225284.12533718022, Delta_K = -223353.41248102512\n",
      "Delta_E = 1930.7128561553545\n",
      "acceptance rate = 0.00%\n",
      "accept? True\n",
      "HMC time = 0.142 secs\n",
      "\n",
      "Creating Gaussian distributed Lie algebra field\n",
      "Trajectory 4:\n",
      "plaquette = 0.7019395394857717\n",
      "P_old = -3590570.4609792675, K_old = 4039.182864146058\n",
      "P = -3422571.838684622, K = -162616.4618685979\n",
      "Delta_P = 167998.6222946453, Delta_K = -166655.64473274394\n",
      "Delta_E = 1342.9775619013235\n",
      "acceptance rate = 0.00%\n",
      "accept? True\n",
      "HMC time = 0.140 secs\n",
      "\n",
      "Creating Gaussian distributed Lie algebra field\n",
      "Trajectory 5:\n",
      "plaquette = 0.6767887444930591\n",
      "P_old = -3422571.838684622, K_old = -725.7948669571355\n",
      "P = -3299939.6206368264, K = -122424.07304089903\n",
      "Delta_P = 122632.21804779582, Delta_K = -121698.2781739419\n",
      "Delta_E = 933.939873854164\n",
      "acceptance rate = 0.00%\n",
      "accept? True\n",
      "HMC time = 0.140 secs\n",
      "\n",
      "Creating Gaussian distributed Lie algebra field\n",
      "Trajectory 6:\n",
      "plaquette = 0.6583577662110424\n",
      "P_old = -3299939.6206368264, K_old = -825.3822401503436\n",
      "P = -3210072.411740671, K = -90023.26197021532\n",
      "Delta_P = 89867.20889615547, Delta_K = -89197.87973006497\n",
      "Delta_E = 669.3291660901159\n",
      "acceptance rate = 0.00%\n",
      "accept? True\n",
      "HMC time = 0.139 secs\n",
      "\n",
      "Creating Gaussian distributed Lie algebra field\n",
      "Trajectory 7:\n",
      "plaquette = 0.6446671479394226\n",
      "P_old = -3210072.411740671, K_old = -633.5936386451294\n",
      "P = -3143318.6218274357, K = -66903.0827277755\n",
      "Delta_P = 66753.78991323523, Delta_K = -66269.48908913037\n",
      "Delta_E = 484.30082410480827\n",
      "acceptance rate = 0.00%\n",
      "accept? True\n",
      "HMC time = 0.140 secs\n",
      "\n",
      "Creating Gaussian distributed Lie algebra field\n",
      "Trajectory 8:\n",
      "plaquette = 0.6350341432927649\n",
      "P_old = -3143318.6218274357, K_old = -242.5724982981086\n",
      "P = -3096349.2625436983, K = -46874.86008796599\n",
      "Delta_P = 46969.35928373737, Delta_K = -46632.28758966788\n",
      "Delta_E = 337.071694069542\n",
      "acceptance rate = 0.00%\n",
      "accept? True\n",
      "HMC time = 0.139 secs\n",
      "\n",
      "Creating Gaussian distributed Lie algebra field\n",
      "Trajectory 9:\n",
      "plaquette = 0.62804789123982\n",
      "P_old = -3096349.2625436983, K_old = 1010.4361033365162\n",
      "P = -3062285.1470617875, K = -32819.24685225682\n",
      "Delta_P = 34064.11548191076, Delta_K = -33829.68295559334\n",
      "Delta_E = 234.43252631742507\n",
      "acceptance rate = 0.00%\n",
      "accept? True\n",
      "HMC time = 0.140 secs\n",
      "\n",
      "Creating Gaussian distributed Lie algebra field\n",
      "Trajectory 10:\n",
      "plaquette = 0.6229850354817332\n",
      "P_old = -3062285.1470617875, K_old = -562.3321330886082\n",
      "P = -3037599.2780286167, K = -25063.34505319116\n",
      "Delta_P = 24685.869033170864, Delta_K = -24501.012920102552\n",
      "Delta_E = 184.85611306829378\n",
      "acceptance rate = 0.00%\n",
      "accept? True\n",
      "HMC time = 0.139 secs\n",
      "\n",
      "Creating Gaussian distributed Lie algebra field\n",
      "Trajectory 11:\n",
      "plaquette = 0.6191817307243552\n",
      "P_old = -3037599.2780286167, K_old = -1453.8689941094672\n",
      "P = -3019054.8265135, K = -19868.943893135383\n",
      "Delta_P = 18544.45151511673, Delta_K = -18415.074899025916\n",
      "Delta_E = 129.37661609053612\n",
      "acceptance rate = 0.00%\n",
      "accept? True\n",
      "HMC time = 0.140 secs\n",
      "\n",
      "Creating Gaussian distributed Lie algebra field\n",
      "Trajectory 12:\n",
      "plaquette = 0.6165636670992021\n",
      "P_old = -3019054.8265135, K_old = -467.6170520559516\n",
      "P = -3006289.46663379, K = -13132.16685043215\n",
      "Delta_P = 12765.35987970978, Delta_K = -12664.549798376198\n",
      "Delta_E = 100.81008133338764\n",
      "acceptance rate = 0.00%\n",
      "accept? True\n",
      "HMC time = 0.139 secs\n",
      "\n",
      "Creating Gaussian distributed Lie algebra field\n",
      "Trajectory 13:\n",
      "plaquette = 0.6145003041001613\n",
      "P_old = -3006289.46663379, K_old = 606.3785938293047\n",
      "P = -2996228.7595554083, K = -9386.93706136494\n",
      "Delta_P = 10060.707078381907, Delta_K = -9993.315655194245\n",
      "Delta_E = 67.39142318768427\n",
      "acceptance rate = 0.00%\n",
      "accept? True\n",
      "HMC time = 0.140 secs\n",
      "\n",
      "Creating Gaussian distributed Lie algebra field\n",
      "Trajectory 14:\n",
      "plaquette = 0.6132765064617612\n",
      "P_old = -2996228.7595554083, K_old = 1003.9146727464865\n",
      "P = -2990261.6710843625, K = -4896.427513729735\n",
      "Delta_P = 5967.088471045718, Delta_K = -5900.342186476222\n",
      "Delta_E = 66.74628456961364\n",
      "acceptance rate = 0.00%\n",
      "accept? True\n",
      "HMC time = 0.139 secs\n",
      "\n",
      "Creating Gaussian distributed Lie algebra field\n",
      "Trajectory 15:\n",
      "plaquette = 0.6128130873213314\n",
      "P_old = -2990261.6710843625, K_old = -1025.2754457459337\n",
      "P = -2988002.095707394, K = -3253.684225620941\n",
      "Delta_P = 2259.575376968365, Delta_K = -2228.4087798750074\n",
      "Delta_E = 31.166597092989832\n",
      "acceptance rate = 0.00%\n",
      "accept? True\n",
      "HMC time = 0.140 secs\n",
      "\n",
      "Creating Gaussian distributed Lie algebra field\n",
      "Trajectory 16:\n",
      "plaquette = 0.6124003181723601\n",
      "P_old = -2988002.095707394, K_old = 57.8440681975419\n",
      "P = -2985989.4835297386, K = -1936.0605669063564\n",
      "Delta_P = 2012.6121776555665, Delta_K = -1993.9046351038983\n",
      "Delta_E = 18.7075425516814\n",
      "acceptance rate = 0.00%\n",
      "accept? True\n",
      "HMC time = 0.139 secs\n",
      "\n",
      "Creating Gaussian distributed Lie algebra field\n",
      "Trajectory 17:\n",
      "plaquette = 0.6120091618202393\n",
      "P_old = -2985989.4835297386, K_old = 136.27114785181902\n",
      "P = -2984082.2527214102, K = -1737.4487564206515\n",
      "Delta_P = 1907.2308083283715, Delta_K = -1873.7199042724706\n",
      "Delta_E = 33.51090405602008\n",
      "acceptance rate = 0.00%\n",
      "accept? True\n",
      "HMC time = 0.140 secs\n",
      "\n",
      "Creating Gaussian distributed Lie algebra field\n",
      "Trajectory 18:\n",
      "plaquette = 0.6116508912202814\n",
      "P_old = -2984082.2527214102, K_old = 875.1615478352013\n",
      "P = -2982335.36884172, K = -845.4448556402921\n",
      "Delta_P = 1746.883879690431, Delta_K = -1720.6064034754934\n",
      "Delta_E = 26.277476215269417\n",
      "acceptance rate = 0.00%\n",
      "accept? True\n",
      "HMC time = 0.139 secs\n",
      "\n",
      "Creating Gaussian distributed Lie algebra field\n",
      "Trajectory 19:\n",
      "plaquette = 0.6113557669692254\n",
      "P_old = -2982335.36884172, K_old = -1060.8341325009173\n",
      "P = -2980896.3788806796, K = -2471.8741454245824\n",
      "Delta_P = 1438.9899610402063, Delta_K = -1411.040012923665\n",
      "Delta_E = 27.949948116671294\n",
      "acceptance rate = 0.00%\n",
      "accept? True\n",
      "HMC time = 0.140 secs\n",
      "\n",
      "Creating Gaussian distributed Lie algebra field\n",
      "Trajectory 20:\n",
      "plaquette = 0.6110346513647702\n",
      "P_old = -2980896.3788806796, K_old = -2743.255304759103\n",
      "P = -2979330.658241014, K = -4288.431690802512\n",
      "Delta_P = 1565.720639665611, Delta_K = -1545.176386043409\n",
      "Delta_E = 20.544253622181714\n",
      "acceptance rate = 0.00%\n",
      "accept? True\n",
      "HMC time = 0.139 secs\n",
      "\n",
      "Creating Gaussian distributed Lie algebra field\n",
      "Trajectory 21:\n",
      "plaquette = 0.6108110894443504\n",
      "P_old = -2979330.658241014, K_old = 466.9325671204564\n",
      "P = -2978240.597502176, K = -612.8740309586876\n",
      "Delta_P = 1090.060738837812, Delta_K = -1079.806598079144\n",
      "Delta_E = 10.254140758421272\n",
      "acceptance rate = 0.00%\n",
      "accept? True\n",
      "HMC time = 0.140 secs\n",
      "\n",
      "Creating Gaussian distributed Lie algebra field\n",
      "Trajectory 22:\n",
      "plaquette = 0.610660370995803\n",
      "P_old = -2978240.597502176, K_old = -475.82221571335214\n",
      "P = -2977505.712674422, K = -1189.984307959947\n",
      "Delta_P = 734.8848277539946, Delta_K = -714.162092246595\n",
      "Delta_E = 20.722735507413745\n",
      "acceptance rate = 0.00%\n",
      "accept? True\n",
      "HMC time = 0.139 secs\n",
      "\n",
      "Creating Gaussian distributed Lie algebra field\n",
      "Trajectory 23:\n",
      "plaquette = 0.6109364169053637\n",
      "P_old = -2977505.712674422, K_old = -983.0152892393012\n",
      "P = -2978851.6789622577, K = 367.29597656985993\n",
      "Delta_P = -1345.9662878355011, Delta_K = 1350.3112658091611\n",
      "Delta_E = 4.344977973494679\n",
      "acceptance rate = 1.30%\n",
      "accept? True\n",
      "HMC time = 0.140 secs\n",
      "\n",
      "Creating Gaussian distributed Lie algebra field\n",
      "Trajectory 24:\n",
      "plaquette = 0.6105514112550297\n",
      "P_old = -2978851.6789622577, K_old = -632.617488964312\n",
      "P = -2976974.438227915, K = -2479.972788982241\n",
      "Delta_P = 1877.2407343424857, Delta_K = -1847.355300017929\n",
      "Delta_E = 29.885434324853122\n",
      "acceptance rate = 0.00%\n",
      "accept? True\n",
      "HMC time = 0.139 secs\n",
      "\n",
      "Creating Gaussian distributed Lie algebra field\n",
      "Trajectory 25:\n",
      "plaquette = 0.609813685960289\n",
      "P_old = -2976974.438227915, K_old = -24.867148569352253\n",
      "P = -2973377.3793981574, K = -3580.73660342611\n",
      "Delta_P = 3597.0588297578506, Delta_K = -3555.869454856758\n",
      "Delta_E = 41.18937490088865\n",
      "acceptance rate = 0.00%\n",
      "accept? True\n",
      "HMC time = 0.140 secs\n",
      "\n",
      "Creating Gaussian distributed Lie algebra field\n",
      "Trajectory 26:\n",
      "plaquette = 0.609585541445256\n",
      "P_old = -2973377.3793981574, K_old = 1328.263784522279\n",
      "P = -2972264.9744852283, K = 232.23084807184057\n",
      "Delta_P = 1112.4049129290506, Delta_K = -1096.0329364504382\n",
      "Delta_E = 16.37197647849098\n",
      "acceptance rate = 0.00%\n",
      "accept? True\n",
      "HMC time = 0.139 secs\n",
      "\n",
      "Creating Gaussian distributed Lie algebra field\n"
     ]
    },
    {
     "name": "stdout",
     "output_type": "stream",
     "text": [
      "Trajectory 27:\n",
      "plaquette = 0.6098066697698308\n",
      "P_old = -2972264.9744852283, K_old = -1848.5216580164442\n",
      "P = -2973343.1693066508, K = -770.1852092597333\n",
      "Delta_P = -1078.194821422454, Delta_K = 1078.336448756711\n",
      "Delta_E = 0.14162733405828476\n",
      "acceptance rate = 86.79%\n",
      "accept? True\n",
      "HMC time = 0.140 secs\n",
      "\n",
      "Creating Gaussian distributed Lie algebra field\n",
      "Trajectory 28:\n",
      "plaquette = 0.6101012398795089\n",
      "P_old = -2973343.1693066508, K_old = -171.80966122414776\n",
      "P = -2974779.4573417166, K = 1269.8691323512796\n",
      "Delta_P = -1436.288035065867, Delta_K = 1441.6787935754273\n",
      "Delta_E = 5.390758509282023\n",
      "acceptance rate = 0.46%\n",
      "accept? True\n",
      "HMC time = 0.139 secs\n",
      "\n",
      "Creating Gaussian distributed Lie algebra field\n",
      "Trajectory 29:\n",
      "plaquette = 0.6103196899212264\n",
      "P_old = -2974779.4573417166, K_old = -504.81587146901506\n",
      "P = -2975844.5931816064, K = 570.9698866649451\n",
      "Delta_P = -1065.1358398897573, Delta_K = 1075.7857581339601\n",
      "Delta_E = 10.649918244220316\n",
      "acceptance rate = 0.00%\n",
      "accept? True\n",
      "HMC time = 0.140 secs\n",
      "\n",
      "Creating Gaussian distributed Lie algebra field\n",
      "Trajectory 30:\n",
      "plaquette = 0.6101288468627317\n",
      "P_old = -2975844.5931816064, K_old = -194.69796496464573\n",
      "P = -2974914.0656349007, K = -1103.7897104868364\n",
      "Delta_P = 930.5275467056781, Delta_K = -909.0917455221906\n",
      "Delta_E = 21.43580118333921\n",
      "acceptance rate = 0.00%\n",
      "accept? True\n",
      "HMC time = 0.139 secs\n",
      "\n",
      "Creating Gaussian distributed Lie algebra field\n",
      "Trajectory 31:\n",
      "plaquette = 0.6101545556054748\n",
      "P_old = -2974914.0656349007, K_old = 1481.3596436047878\n",
      "P = -2975039.418338334, K = 1617.2964212606178\n",
      "Delta_P = -125.35270343348384, Delta_K = 135.93677765582993\n",
      "Delta_E = 10.58407422248274\n",
      "acceptance rate = 0.00%\n",
      "accept? True\n",
      "HMC time = 0.140 secs\n",
      "\n",
      "Creating Gaussian distributed Lie algebra field\n",
      "Trajectory 32:\n",
      "plaquette = 0.6100866364913988\n",
      "P_old = -2975039.418338334, K_old = 1216.487128687495\n",
      "P = -2974708.252997063, K = 895.0703080908852\n",
      "Delta_P = 331.1653412710875, Delta_K = -321.4168205966098\n",
      "Delta_E = 9.748520674183965\n",
      "acceptance rate = 0.01%\n",
      "accept? True\n",
      "HMC time = 0.139 secs\n",
      "\n",
      "Creating Gaussian distributed Lie algebra field\n",
      "Trajectory 33:\n",
      "plaquette = 0.6105557448053432\n",
      "P_old = -2974708.252997063, K_old = -1019.9748483753394\n",
      "P = -2976995.5680922857, K = 1261.222865911259\n",
      "Delta_P = -2287.315095222555, Delta_K = 2281.1977142865985\n",
      "Delta_E = -6.117380936164409\n",
      "acceptance rate = 100.00%\n",
      "accept? True\n",
      "HMC time = 0.140 secs\n",
      "\n",
      "Creating Gaussian distributed Lie algebra field\n",
      "Trajectory 34:\n",
      "plaquette = 0.6102470367988171\n",
      "P_old = -2976995.5680922857, K_old = 1263.9635817282208\n",
      "P = -2975490.345391358, K = -220.34272184789526\n",
      "Delta_P = 1505.2227009278722, Delta_K = -1484.306303576116\n",
      "Delta_E = 20.916397351771593\n",
      "acceptance rate = 0.00%\n",
      "accept? True\n",
      "HMC time = 0.139 secs\n",
      "\n",
      "Creating Gaussian distributed Lie algebra field\n",
      "Trajectory 35:\n",
      "plaquette = 0.6104908924886018\n",
      "P_old = -2975490.345391358, K_old = -3911.913463434592\n",
      "P = -2976679.356081896, K = -2716.323844917762\n",
      "Delta_P = -1189.0106905382127, Delta_K = 1195.58961851683\n",
      "Delta_E = 6.578927978873253\n",
      "acceptance rate = 0.14%\n",
      "accept? True\n",
      "HMC time = 0.140 secs\n",
      "\n",
      "Creating Gaussian distributed Lie algebra field\n",
      "Trajectory 36:\n",
      "plaquette = 0.6107058915628683\n",
      "P_old = -2976679.356081896, K_old = -1870.4696299301022\n",
      "P = -2977727.6654241313, K = -821.9457590494692\n",
      "Delta_P = -1048.3093422353268, Delta_K = 1048.523870880633\n",
      "Delta_E = 0.21452864538878202\n",
      "acceptance rate = 80.69%\n",
      "accept? True\n",
      "HMC time = 0.139 secs\n",
      "\n",
      "Creating Gaussian distributed Lie algebra field\n",
      "Trajectory 37:\n",
      "plaquette = 0.6106622028558144\n",
      "P_old = -2977727.6654241313, K_old = -2389.512655396879\n",
      "P = -2977514.6446010843, K = -2590.677142612067\n",
      "Delta_P = 213.02082304703072, Delta_K = -201.16448721518827\n",
      "Delta_E = 11.856335831806064\n",
      "acceptance rate = 0.00%\n",
      "accept? True\n",
      "HMC time = 0.140 secs\n",
      "\n",
      "Creating Gaussian distributed Lie algebra field\n",
      "Trajectory 38:\n",
      "plaquette = 0.6109228282071942\n",
      "P_old = -2977514.6446010843, K_old = -2094.6554130516547\n",
      "P = -2978785.422122369, K = -802.8457227503604\n",
      "Delta_P = -1270.7775212847628, Delta_K = 1291.8096903012943\n",
      "Delta_E = 21.032169016543776\n",
      "acceptance rate = 0.00%\n",
      "accept? True\n",
      "HMC time = 0.139 secs\n",
      "\n",
      "Creating Gaussian distributed Lie algebra field\n",
      "Trajectory 39:\n",
      "plaquette = 0.610732159098142\n",
      "P_old = -2978785.422122369, K_old = 1240.9222449402685\n",
      "P = -2977855.742731994, K = 319.9866956970088\n",
      "Delta_P = 929.6793903750367, Delta_K = -920.9355492432596\n",
      "Delta_E = 8.743841131683439\n",
      "acceptance rate = 0.02%\n",
      "accept? True\n",
      "HMC time = 0.140 secs\n",
      "\n",
      "Creating Gaussian distributed Lie algebra field\n",
      "Trajectory 40:\n",
      "plaquette = 0.6105738016667808\n",
      "P_old = -2977855.742731994, K_old = 150.06769597463028\n",
      "P = -2977083.6111529414, K = -598.0428303248475\n",
      "Delta_P = 772.1315790526569, Delta_K = -748.1105262994778\n",
      "Delta_E = 24.021052753087133\n",
      "acceptance rate = 0.00%\n",
      "accept? True\n",
      "HMC time = 0.139 secs\n",
      "\n",
      "Creating Gaussian distributed Lie algebra field\n",
      "Trajectory 41:\n",
      "plaquette = 0.6103211439246816\n",
      "P_old = -2977083.6111529414, K_old = 2376.5970747868755\n",
      "P = -2975851.6827256465, K = 1155.8971510467209\n",
      "Delta_P = 1231.928427294828, Delta_K = -1220.6999237401546\n",
      "Delta_E = 11.228503555059433\n",
      "acceptance rate = 0.00%\n",
      "accept? True\n",
      "HMC time = 0.140 secs\n",
      "\n",
      "Creating Gaussian distributed Lie algebra field\n",
      "Trajectory 42:\n",
      "plaquette = 0.6104024094157772\n",
      "P_old = -2975851.6827256465, K_old = -1108.4327265563757\n",
      "P = -2976247.923378345, K = -698.1330291073517\n",
      "Delta_P = -396.2406526985578, Delta_K = 410.29969744902394\n",
      "Delta_E = 14.059044750407338\n",
      "acceptance rate = 0.00%\n",
      "accept? True\n",
      "HMC time = 0.139 secs\n",
      "\n",
      "Creating Gaussian distributed Lie algebra field\n",
      "Trajectory 43:\n",
      "plaquette = 0.609986299523507\n",
      "P_old = -2976247.923378345, K_old = 1576.7131331970118\n",
      "P = -2974219.0221425984, K = -426.2502380277458\n",
      "Delta_P = 2028.9012357466854, Delta_K = -2002.9633712247576\n",
      "Delta_E = 25.93786452198401\n",
      "acceptance rate = 0.00%\n",
      "accept? True\n",
      "HMC time = 0.140 secs\n",
      "\n",
      "Creating Gaussian distributed Lie algebra field\n",
      "Trajectory 44:\n",
      "plaquette = 0.61007490620552\n",
      "P_old = -2974219.0221425984, K_old = 833.8018127669421\n",
      "P = -2974651.057549521, K = 1272.553420741372\n",
      "Delta_P = -432.0354069224559, Delta_K = 438.75160797442993\n",
      "Delta_E = 6.716201052069664\n",
      "acceptance rate = 0.12%\n",
      "accept? True\n",
      "HMC time = 0.139 secs\n",
      "\n",
      "Creating Gaussian distributed Lie algebra field\n",
      "Trajectory 45:\n",
      "plaquette = 0.6104721277796405\n",
      "P_old = -2974651.057549521, K_old = -57.57034886404983\n",
      "P = -2976587.8616427896, K = 1886.911268886673\n",
      "Delta_P = -1936.8040932687, Delta_K = 1944.4816177507228\n",
      "Delta_E = 7.677524481900036\n",
      "acceptance rate = 0.05%\n",
      "accept? True\n",
      "HMC time = 0.140 secs\n",
      "\n",
      "Creating Gaussian distributed Lie algebra field\n",
      "Trajectory 46:\n",
      "plaquette = 0.6103181166547427\n",
      "P_old = -2976587.8616427896, K_old = -93.81428742627452\n",
      "P = -2975836.9221255397, K = -821.5954410876682\n",
      "Delta_P = 750.9395172498189, Delta_K = -727.7811536613937\n",
      "Delta_E = 23.158363588619977\n",
      "acceptance rate = 0.00%\n",
      "accept? True\n",
      "HMC time = 0.139 secs\n",
      "\n",
      "Creating Gaussian distributed Lie algebra field\n",
      "Trajectory 47:\n",
      "plaquette = 0.6107740659455987\n",
      "P_old = -2975836.9221255397, K_old = -4678.355808951251\n",
      "P = -2978060.0754243196, K = -2450.724697636044\n",
      "Delta_P = -2223.1532987798564, Delta_K = 2227.631111315207\n",
      "Delta_E = 4.477812535595149\n",
      "acceptance rate = 1.14%\n",
      "accept? True\n",
      "HMC time = 0.140 secs\n",
      "\n",
      "Creating Gaussian distributed Lie algebra field\n",
      "Trajectory 48:\n",
      "plaquette = 0.6108782462865994\n",
      "P_old = -2978060.0754243196, K_old = -1409.8212072226809\n",
      "P = -2978568.04609871, K = -891.8321965954353\n",
      "Delta_P = -507.97067439043894, Delta_K = 517.9890106272455\n",
      "Delta_E = 10.018336236476898\n",
      "acceptance rate = 0.00%\n",
      "accept? True\n",
      "HMC time = 0.139 secs\n",
      "\n",
      "Creating Gaussian distributed Lie algebra field\n",
      "Trajectory 49:\n",
      "plaquette = 0.6104048828472793\n",
      "P_old = -2978568.04609871, K_old = 515.5573136203079\n",
      "P = -2976259.98352958, K = -1752.9866623447922\n",
      "Delta_P = 2308.062569130212, Delta_K = -2268.5439759651\n",
      "Delta_E = 39.51859316509217\n",
      "acceptance rate = 0.00%\n",
      "accept? True\n",
      "HMC time = 0.140 secs\n",
      "\n",
      "Creating Gaussian distributed Lie algebra field\n",
      "Trajectory 50:\n",
      "plaquette = 0.6100999421041797\n",
      "P_old = -2976259.98352958, K_old = 47.930575923478045\n",
      "P = -2974773.129547021, K = -1414.8321090645975\n",
      "Delta_P = 1486.8539825589396, Delta_K = -1462.7626849880755\n",
      "Delta_E = 24.091297570616007\n",
      "acceptance rate = 0.00%\n",
      "accept? True\n",
      "HMC time = 0.139 secs\n",
      "\n"
     ]
    },
    {
     "ename": "FileNotFoundError",
     "evalue": "[Errno 2] No such file or directory: './DATA/cfg/cfg_50.npy'",
     "output_type": "error",
     "traceback": [
      "\u001b[0;31m---------------------------------------------------------------------------\u001b[0m",
      "\u001b[0;31mFileNotFoundError\u001b[0m                         Traceback (most recent call last)",
      "Cell \u001b[0;32mIn[18], line 42\u001b[0m\n\u001b[1;32m     29\u001b[0m \u001b[38;5;28mprint\u001b[39m(\n\u001b[1;32m     30\u001b[0m     \u001b[38;5;124mf\u001b[39m\u001b[38;5;124m\"\u001b[39m\u001b[38;5;124mTrajectory \u001b[39m\u001b[38;5;132;01m{\u001b[39;00mi\u001b[38;5;250m \u001b[39m\u001b[38;5;241m+\u001b[39m\u001b[38;5;250m \u001b[39m\u001b[38;5;241m1\u001b[39m\u001b[38;5;132;01m}\u001b[39;00m\u001b[38;5;124m:\u001b[39m\u001b[38;5;130;01m\\n\u001b[39;00m\u001b[38;5;124m\"\u001b[39m\n\u001b[1;32m     31\u001b[0m     \u001b[38;5;124mf\u001b[39m\u001b[38;5;124m\"\u001b[39m\u001b[38;5;124mplaquette = \u001b[39m\u001b[38;5;132;01m{\u001b[39;00mplaquette[\u001b[38;5;241m-\u001b[39m\u001b[38;5;241m1\u001b[39m]\u001b[38;5;132;01m}\u001b[39;00m\u001b[38;5;130;01m\\n\u001b[39;00m\u001b[38;5;124m\"\u001b[39m\n\u001b[0;32m   (...)\u001b[0m\n\u001b[1;32m     38\u001b[0m     \u001b[38;5;124mf\u001b[39m\u001b[38;5;124m\"\u001b[39m\u001b[38;5;124mHMC time = \u001b[39m\u001b[38;5;132;01m{\u001b[39;00mperf_counter()\u001b[38;5;250m \u001b[39m\u001b[38;5;241m-\u001b[39m\u001b[38;5;250m \u001b[39ms\u001b[38;5;132;01m:\u001b[39;00m\u001b[38;5;124m.3f\u001b[39m\u001b[38;5;132;01m}\u001b[39;00m\u001b[38;5;124m secs\u001b[39m\u001b[38;5;130;01m\\n\u001b[39;00m\u001b[38;5;124m\"\u001b[39m\n\u001b[1;32m     39\u001b[0m )\n\u001b[1;32m     41\u001b[0m \u001b[38;5;28;01mif\u001b[39;00m (i \u001b[38;5;241m+\u001b[39m \u001b[38;5;241m1\u001b[39m) \u001b[38;5;241m%\u001b[39m save \u001b[38;5;241m==\u001b[39m \u001b[38;5;241m0\u001b[39m:\n\u001b[0;32m---> 42\u001b[0m     \u001b[43mio\u001b[49m\u001b[38;5;241;43m.\u001b[39;49m\u001b[43mwriteNPYGauge\u001b[49m\u001b[43m(\u001b[49m\u001b[38;5;124;43mf\u001b[39;49m\u001b[38;5;124;43m\"\u001b[39;49m\u001b[38;5;124;43m./DATA/cfg/cfg_\u001b[39;49m\u001b[38;5;132;43;01m{\u001b[39;49;00m\u001b[43mi\u001b[49m\u001b[38;5;250;43m \u001b[39;49m\u001b[38;5;241;43m+\u001b[39;49m\u001b[38;5;250;43m \u001b[39;49m\u001b[38;5;241;43m1\u001b[39;49m\u001b[38;5;132;43;01m}\u001b[39;49;00m\u001b[38;5;124;43m.npy\u001b[39;49m\u001b[38;5;124;43m\"\u001b[39;49m\u001b[43m,\u001b[49m\u001b[43m \u001b[49m\u001b[43mgauge\u001b[49m\u001b[43m)\u001b[49m\n",
      "File \u001b[0;32m~/.venv/lib/python3.11/site-packages/pyquda/utils/io/__init__.py:197\u001b[0m, in \u001b[0;36mwriteNPYGauge\u001b[0;34m(filename, gauge)\u001b[0m\n\u001b[1;32m    194\u001b[0m \u001b[38;5;28;01mdef\u001b[39;00m \u001b[38;5;21mwriteNPYGauge\u001b[39m(filename: \u001b[38;5;28mstr\u001b[39m, gauge: LatticeGauge):\n\u001b[1;32m    195\u001b[0m     \u001b[38;5;28;01mfrom\u001b[39;00m \u001b[38;5;21;01m.\u001b[39;00m\u001b[38;5;21;01mnpy\u001b[39;00m \u001b[38;5;28;01mimport\u001b[39;00m writeGauge \u001b[38;5;28;01mas\u001b[39;00m write\n\u001b[0;32m--> 197\u001b[0m     \u001b[43mwrite\u001b[49m\u001b[43m(\u001b[49m\u001b[43mfilename\u001b[49m\u001b[43m,\u001b[49m\u001b[43m \u001b[49m\u001b[43mgauge\u001b[49m\u001b[38;5;241;43m.\u001b[39;49m\u001b[43mlexico\u001b[49m\u001b[43m(\u001b[49m\u001b[43m)\u001b[49m\u001b[43m,\u001b[49m\u001b[43m \u001b[49m\u001b[43mgauge\u001b[49m\u001b[38;5;241;43m.\u001b[39;49m\u001b[43mlatt_info\u001b[49m\u001b[38;5;241;43m.\u001b[39;49m\u001b[43mglobal_size\u001b[49m\u001b[43m)\u001b[49m\n",
      "File \u001b[0;32m~/.venv/lib/python3.11/site-packages/pyquda/utils/io/npy.py:36\u001b[0m, in \u001b[0;36mwriteGauge\u001b[0;34m(filename, gauge, latt_size)\u001b[0m\n\u001b[1;32m     34\u001b[0m Lx, Ly, Lz, Lt \u001b[38;5;241m=\u001b[39m getSublatticeSize(latt_size)\n\u001b[1;32m     35\u001b[0m \u001b[38;5;28;01mif\u001b[39;00m getMPIRank() \u001b[38;5;241m==\u001b[39m \u001b[38;5;241m0\u001b[39m:\n\u001b[0;32m---> 36\u001b[0m     \u001b[38;5;28;01mwith\u001b[39;00m \u001b[38;5;28;43mopen\u001b[39;49m\u001b[43m(\u001b[49m\u001b[43mfilename\u001b[49m\u001b[43m,\u001b[49m\u001b[43m \u001b[49m\u001b[38;5;124;43m\"\u001b[39;49m\u001b[38;5;124;43mwb\u001b[39;49m\u001b[38;5;124;43m\"\u001b[39;49m\u001b[43m)\u001b[49m \u001b[38;5;28;01mas\u001b[39;00m f:\n\u001b[1;32m     37\u001b[0m         write_array_header_1_0(\n\u001b[1;32m     38\u001b[0m             f, {\u001b[38;5;124m\"\u001b[39m\u001b[38;5;124mshape\u001b[39m\u001b[38;5;124m\"\u001b[39m: (Nd, \u001b[38;5;241m*\u001b[39mlatt_size[::\u001b[38;5;241m-\u001b[39m\u001b[38;5;241m1\u001b[39m], Nc, Nc), \u001b[38;5;124m\"\u001b[39m\u001b[38;5;124mfortran_order\u001b[39m\u001b[38;5;124m\"\u001b[39m: \u001b[38;5;28;01mFalse\u001b[39;00m, \u001b[38;5;124m\"\u001b[39m\u001b[38;5;124mdescr\u001b[39m\u001b[38;5;124m\"\u001b[39m: \u001b[38;5;124m\"\u001b[39m\u001b[38;5;124m<c16\u001b[39m\u001b[38;5;124m\"\u001b[39m}\n\u001b[1;32m     39\u001b[0m         )\n\u001b[1;32m     40\u001b[0m getMPIComm()\u001b[38;5;241m.\u001b[39mBarrier()\n",
      "\u001b[0;31mFileNotFoundError\u001b[0m: [Errno 2] No such file or directory: './DATA/cfg/cfg_50.npy'"
     ]
    }
   ],
   "source": [
    "for i in range(start + 1, stop):\n",
    "    s = perf_counter()\n",
    "\n",
    "    hmc.gaussMom(i)\n",
    "\n",
    "    kinetic_old = hmc.actionMom()\n",
    "    potential_old = hmc.actionGauge(input_path, input_coeff)\n",
    "    energy_old = kinetic_old + potential_old\n",
    "\n",
    "    dt = t / n_steps\n",
    "    for _ in range(n_steps):\n",
    "        hmc.updateMom(input_path2, input_coeff2, dt / 2)\n",
    "        hmc.updateGauge(dt)\n",
    "        hmc.updateMom(input_path2, input_coeff2, dt / 2)\n",
    "\n",
    "    hmc.reunitGauge(1e-15)\n",
    "\n",
    "    kinetic = hmc.actionMom()\n",
    "    potential = hmc.actionGauge(input_path, input_coeff)\n",
    "    energy = kinetic + potential\n",
    "\n",
    "    accept = random() < exp(energy_old - energy)\n",
    "    if accept or i < warm:\n",
    "        hmc.saveGauge(gauge)\n",
    "    else:\n",
    "        hmc.loadGauge(gauge)\n",
    "\n",
    "    plaquette.append(hmc.plaquette())\n",
    "    print(\n",
    "        f\"Trajectory {i + 1}:\\n\"\n",
    "        f\"plaquette = {plaquette[-1]}\\n\"\n",
    "        f\"P_old = {potential_old}, K_old = {kinetic_old}\\n\"\n",
    "        f\"P = {potential}, K = {kinetic}\\n\"\n",
    "        f\"Delta_P = {potential - potential_old}, Delta_K = {kinetic - kinetic_old}\\n\"\n",
    "        f\"Delta_E = {energy - energy_old}\\n\"\n",
    "        f\"acceptance rate = {min(1, exp(energy_old - energy))*100:.2f}%\\n\"\n",
    "        f\"accept? {accept or i < warm}\\n\"\n",
    "        f\"HMC time = {perf_counter() - s:.3f} secs\\n\"\n",
    "    )\n",
    "\n",
    "    if (i + 1) % save == 0:\n",
    "        io.writeNPYGauge(f\"./DATA/cfg/cfg_{i + 1}.npy\", gauge)"
   ]
  },
  {
   "cell_type": "markdown",
   "metadata": {
    "slideshow": {
     "slide_type": "slide"
    }
   },
   "source": [
    "## 3 画图"
   ]
  },
  {
   "cell_type": "code",
   "execution_count": 20,
   "metadata": {
    "slideshow": {
     "slide_type": "subslide"
    }
   },
   "outputs": [
    {
     "data": {
      "text/plain": [
       "(0.6, 0.65)"
      ]
     },
     "execution_count": 20,
     "metadata": {},
     "output_type": "execute_result"
    },
    {
     "data": {
      "image/png": "[encoded data removed]",
      "text/plain": [
       "<Figure size 640x480 with 1 Axes>"
      ]
     },
     "metadata": {},
     "output_type": "display_data"
    }
   ],
   "source": [
    "plt.plot(range(start, min(stop, start + len(plaquette))), plaquette, \",-\")\n",
    "plt.ylim(0.6, 0.65)"
   ]
  },
  {
   "cell_type": "code",
   "execution_count": null,
   "metadata": {},
   "outputs": [],
   "source": []
  }
 ],
 "metadata": {
  "celltoolbar": "Slideshow",
  "kernelspec": {
   "display_name": "Python 3 (ipykernel)",
   "language": "python",
   "name": "python3"
  },
  "language_info": {
   "codemirror_mode": {
    "name": "ipython",
    "version": 3
   },
   "file_extension": ".py",
   "mimetype": "text/x-python",
   "name": "python",
   "nbconvert_exporter": "python",
   "pygments_lexer": "ipython3",
   "version": "3.11.2"
  },
  "rise": {
   "scroll": true,
   "slideNumber": "c/t"
  }
 },
 "nbformat": 4,
 "nbformat_minor": 4
}
