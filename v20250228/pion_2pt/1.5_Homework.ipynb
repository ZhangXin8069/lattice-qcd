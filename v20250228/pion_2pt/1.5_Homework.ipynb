{
 "cells": [
  {
   "cell_type": "markdown",
   "metadata": {},
   "source": [
    "## 1 numpy & gvar & lsqfit"
   ]
  },
  {
   "cell_type": "code",
   "execution_count": 1,
   "metadata": {},
   "outputs": [],
   "source": [
    "import numpy as np\n",
    "from matplotlib import pyplot as plt\n",
    "import gvar as gv\n",
    "from lsqfit import nonlinear_fit"
   ]
  },
  {
   "cell_type": "markdown",
   "metadata": {},
   "source": [
    "### 1.1\n",
    "\n",
    "1. Calculate $y=e^{-t}$ for $t=0.0,0.2,0.4,\\dots,2.0$\n",
    "2. Add Gaussian noise $0.02\\xi$ with $\\xi\\sim\\mathcal{N}(0,1)$ to each $\\{t_i,y_i\\}$\n",
    "3. Repeat Step 2 for 50 times, then you get 50 \"samples\"\n",
    "4. Export your \"samples\" to `.npy` file"
   ]
  },
  {
   "cell_type": "code",
   "execution_count": 2,
   "metadata": {},
   "outputs": [],
   "source": [
    "sample = np.zeros((50, 11))\n",
    "t = np.linspace(0, 2, 11)\n",
    "y = np.exp(-t)\n",
    "for i in range(50):\n",
    "    noise = 0.02 * np.random.normal(0, 1, (11))\n",
    "    sample[i] = y + noise\n",
    "np.save(\"sample.npy\", sample)"
   ]
  },
  {
   "cell_type": "markdown",
   "metadata": {},
   "source": [
    "### 1.2\n",
    "\n",
    "1. Import previous generated `.npy` file\n",
    "2. Calculate the mean value and standard deviation of each $y_i$\n",
    "3. Plot $\\{t_i,y_i\\}$ with error bars in linear-log plot\n",
    "4. Fit the data using model $f(x,\\{c_1,c_2\\})=c_1e^{-c_2t}$\n",
    "5. Plot the best fit and data together in one figure"
   ]
  },
  {
   "cell_type": "code",
   "execution_count": 3,
   "metadata": {},
   "outputs": [
    {
     "name": "stdout",
     "output_type": "stream",
     "text": [
      "Least Squares Fit:\n",
      "  chi2/dof [dof] = 0.03 [11]    Q = 1    logGBF = 25.142\n",
      "\n",
      "Parameters:\n",
      "             c1   1.003 (15)     [  1.0 (1.0) ]  \n",
      "             c2   1.001 (25)     [  1.0 (1.0) ]  \n",
      "\n",
      "Fit:\n",
      "     x[k]          y[k]      f(x[k],p)\n",
      "--------------------------------------\n",
      "        0    1.005 (20)     1.003 (15)  \n",
      "      0.2    0.819 (20)     0.821 (10)  \n",
      "      0.4    0.678 (21)    0.6722 (75)  \n",
      "      0.6    0.544 (16)    0.5502 (67)  \n",
      "      0.8    0.452 (19)    0.4504 (67)  \n",
      "        1    0.366 (19)    0.3686 (69)  \n",
      "      1.2    0.303 (17)    0.3018 (69)  \n",
      "      1.4    0.249 (18)    0.2470 (68)  \n",
      "      1.6    0.205 (22)    0.2022 (65)  \n",
      "      1.8    0.165 (19)    0.1655 (61)  \n",
      "        2    0.136 (21)    0.1355 (57)  \n",
      "\n",
      "Settings:\n",
      "  svdcut/n = 1e-12/0    tol = (1e-08*,1e-10,1e-10)    (itns/time = 4/0.3s)\n",
      "  fitter = scipy_least_squares    method = trf\n",
      "\n"
     ]
    },
    {
     "data": {
      "image/png": "[encoded data removed]",
      "text/plain": [
       "<Figure size 640x480 with 1 Axes>"
      ]
     },
     "metadata": {},
     "output_type": "display_data"
    },
    {
     "data": {
      "text/plain": [
       "<Figure size 640x480 with 0 Axes>"
      ]
     },
     "metadata": {},
     "output_type": "display_data"
    }
   ],
   "source": [
    "def model(t, p):\n",
    "    return p[\"c1\"] * gv.exp(-p[\"c2\"] * t)\n",
    "\n",
    "\n",
    "data = np.load(\"sample.npy\")\n",
    "data_gv = gv.gvar(data.mean(0), data.std(0))\n",
    "fit = nonlinear_fit((t, data_gv), model, {\"c1\": gv.gvar(1, 1), \"c2\": gv.gvar(1, 1)})\n",
    "print(fit.format(True))\n",
    "data_fit = model(t, fit.p)\n",
    "\n",
    "plt.errorbar(t, gv.mean(data_gv), gv.sdev(data_gv), fmt=\"xr\")\n",
    "plt.plot(t, gv.mean(data_fit), \",-b\", alpha=0.2)\n",
    "plt.fill_between(t, gv.mean(data_fit) - gv.sdev(data_fit), gv.mean(data_fit) + gv.sdev(data_fit), color=\"b\", alpha=0.2)\n",
    "plt.yscale(\"log\")\n",
    "plt.show()\n",
    "plt.clf()"
   ]
  },
  {
   "cell_type": "markdown",
   "metadata": {},
   "source": [
    "## 2 强子两点关联函数"
   ]
  },
  {
   "cell_type": "code",
   "execution_count": 4,
   "metadata": {},
   "outputs": [],
   "source": [
    "import numpy as np\n",
    "from opt_einsum import contract"
   ]
  },
  {
   "cell_type": "code",
   "execution_count": 5,
   "metadata": {},
   "outputs": [],
   "source": [
    "import cupy as cp"
   ]
  },
  {
   "cell_type": "code",
   "execution_count": 6,
   "metadata": {},
   "outputs": [],
   "source": [
    "gamma_0 = np.array([[1, 0, 0, 0], [0, 1, 0, 0], [0, 0, 1, 0], [0, 0, 0, 1]])\n",
    "gamma_1 = np.array([[0, 0, 0, 1j], [0, 0, 1j, 0], [0, -1j, 0, 0], [-1j, 0, 0, 0]])\n",
    "gamma_2 = np.array([[0, 0, 0, -1], [0, 0, 1, 0], [0, 1, 0, 0], [-1, 0, 0, 0]])\n",
    "gamma_3 = np.array([[0, 0, 1j, 0], [0, 0, 0, -1j], [-1j, 0, 0, 0], [0, 1j, 0, 0]])\n",
    "gamma_4 = np.array([[0, 0, 1, 0], [0, 0, 0, 1], [1, 0, 0, 0], [0, 1, 0, 0]])\n",
    "gamma_5 = np.array([[1, 0, 0, 0], [0, 1, 0, 0], [0, 0, -1, 0], [0, 0, 0, -1]])\n",
    "C = gamma_2 @ gamma_4\n",
    "P = (gamma_0 + gamma_4) / 2\n",
    "epsilon = np.zeros((3, 3, 3), np.int32)\n",
    "for a in range(3):\n",
    "    b, c = (a + 1) % 3, (a + 2) % 3\n",
    "    epsilon[a, b, c] = 1\n",
    "    epsilon[a, c, b] = -1"
   ]
  },
  {
   "cell_type": "code",
   "execution_count": 7,
   "metadata": {},
   "outputs": [
    {
     "data": {
      "text/plain": [
       "array([[ 1.+0.j,  0.+0.j,  0.+0.j,  0.+0.j],\n",
       "       [ 0.+0.j,  1.+0.j,  0.+0.j,  0.+0.j],\n",
       "       [ 0.+0.j,  0.+0.j, -1.+0.j,  0.+0.j],\n",
       "       [ 0.+0.j,  0.+0.j,  0.+0.j, -1.+0.j]])"
      ]
     },
     "execution_count": 7,
     "metadata": {},
     "output_type": "execute_result"
    }
   ],
   "source": [
    "gamma_1 @ gamma_2 @ gamma_3 @ gamma_4"
   ]
  },
  {
   "cell_type": "code",
   "execution_count": 8,
   "metadata": {},
   "outputs": [],
   "source": [
    "cfg = 10000\n",
    "pion_numpy = np.zeros((4, 72), np.complex128)\n",
    "proton_numpy = np.zeros((4, 72), np.complex128)"
   ]
  },
  {
   "cell_type": "code",
   "execution_count": 9,
   "metadata": {},
   "outputs": [],
   "source": [
    "pion_cupy = cp.zeros((4, 72), cp.complex128)\n",
    "proton_cupy = cp.zeros((4, 72), cp.complex128)"
   ]
  },
  {
   "cell_type": "markdown",
   "metadata": {},
   "source": [
    "### 2.1 $\\pi$ 介子两点关联函数\n",
    "\n",
    "我们有\n",
    "$$\n",
    "S_{t_0}(t,z,y,x,\\beta,\\beta',a,a')=G^{u/d}(t,z,y,x,\\beta,a;t_0,z_0,y_0,x_0,\\beta',a')\n",
    "$$\n",
    "\n",
    "需要计算\n",
    "$$\n",
    "C(t)=\\frac{1}{N_{t_0}}\\sum_{t_0}C_{t_0}(t_0+t)=\\frac{1}{N_{t_0}}\\sum_{t_0}\\left\\lang\\mathcal{O}(t_0+t)\\mathcal{O}^\\dagger(t_0)\\right\\rang\\\\\n",
    "C_{t_0}(t)=\\left\\lang\\mathcal{O}(t)\\mathcal{O}^\\dagger(t_0)\\right\\rang=\\sum_{z,y,x,a,a',\\alpha,\\alpha',\\beta,\\beta'}G^u(t,z,y,x,\\beta,a;t_0,z_0,y_0,x_0,\\beta',a')\\left(\\gamma_5\\right)_{\\beta'\\alpha'}G^d(t_0,z_0,y_0,x_0,\\alpha',a';t,z,y,x,\\alpha,a)\\left(\\gamma_5\\right)_{\\alpha\\beta}\n",
    "$$"
   ]
  },
  {
   "cell_type": "markdown",
   "metadata": {},
   "source": [
    "#### 2.1.1 $C_{t_0}(t)$\n",
    "\n",
    "根据 $\\gamma_5$-Hermiticity，可以得到\n",
    "$$\n",
    "\\begin{aligned}\n",
    "G(t_0,z_0,y_0,x_0,\\alpha',a';t,z,y,x,\\alpha,a)=&\\left(\\gamma_5\\right)_{\\alpha'\\sigma'}G^\\dagger(t_0,z_0,y_0,x_0,\\sigma',a';t,z,y,x,\\sigma,a)\\left(\\gamma_5\\right)_{\\sigma\\alpha}\\\\\n",
    "=&\\left(\\gamma_5\\right)_{\\alpha'\\sigma'}G^*(t,z,y,x,\\sigma,a;t_0,z_0,y_0,x_0,\\sigma',a')\\left(\\gamma_5\\right)_{\\sigma\\alpha}\\\\\n",
    "=&\\left(\\gamma_5\\right)_{\\alpha'\\sigma'}S_{t_0}^*(t,z,y,x,\\sigma,\\sigma',a,a')\\left(\\gamma_5\\right)_{\\sigma\\alpha}\n",
    "\\end{aligned}\n",
    "$$\n",
    "\n",
    "$$\n",
    "\\begin{aligned}\n",
    "C_{t_0}(t)=\\left\\lang\\mathcal{O}(t)\\mathcal{O}^\\dagger(t_0)\\right\\rang=&\\sum_{z,y,x,a,a',\\alpha,\\alpha',\\beta,\\beta'}G^u(t,z,y,x,\\beta,a;t_0,z_0,y_0,x_0,\\beta',a')\\left(\\gamma_5\\right)_{\\beta'\\alpha'}G^d(t_0,z_0,y_0,x_0,\\alpha',a';t,z,y,x,\\alpha,a)\\left(\\gamma_5\\right)_{\\alpha\\beta}\\\\\n",
    "=&\\sum_{z,y,x,a,a',\\alpha,\\alpha',\\beta,\\beta',\\sigma,\\sigma'}S_{t_0}(t,z,t,x,\\beta,\\beta',a,a')\\left(\\gamma_5\\right)_{\\beta'\\alpha'}\\left(\\gamma_5\\right)_{\\alpha'\\sigma'}S_{t_0}^*(t,z,y,x,\\sigma,\\sigma',a,a')\\left(\\gamma_5\\right)_{\\sigma\\alpha}\\left(\\gamma_5\\right)_{\\alpha\\beta}\\\\\n",
    "=&\\sum_{z,y,x,a,a',\\beta,\\beta',\\sigma,\\sigma'}S_{t_0}(t,z,t,x,\\beta,\\beta',a,a')\\left(\\gamma_5\\gamma_5\\right)_{\\beta'\\sigma'}S_{t_0}^*(t,z,y,x,\\sigma,\\sigma',a,a')\\left(\\gamma_5\\gamma_5\\right)_{\\sigma\\beta}\\\\\n",
    "=&\\sum_{z,y,x,a,b,i,j,k,l}S_{t_0}(t,z,y,x,i,j,a,b)\\left(\\gamma_5\\gamma_5\\right)_{jk}S_{t_0}^*(t,z,y,x,l,k,a,b)\\left(\\gamma_5\\gamma_5\\right)_{li}\n",
    "\\end{aligned}\n",
    "$$"
   ]
  },
  {
   "cell_type": "code",
   "execution_count": 10,
   "metadata": {},
   "outputs": [
    {
     "ename": "FileNotFoundError",
     "evalue": "[Errno 2] No such file or directory: './beta6.20_mu-0.2770_ms-0.2400_L24x72_cfg_10000_hyp0_gfixed3.light.tsrc_00.npy'",
     "output_type": "error",
     "traceback": [
      "\u001b[0;31m---------------------------------------------------------------------------\u001b[0m",
      "\u001b[0;31mFileNotFoundError\u001b[0m                         Traceback (most recent call last)",
      "Cell \u001b[0;32mIn[10], line 2\u001b[0m\n\u001b[1;32m      1\u001b[0m \u001b[38;5;28;01mfor\u001b[39;00m tidx, tsrc \u001b[38;5;129;01min\u001b[39;00m \u001b[38;5;28menumerate\u001b[39m(\u001b[38;5;28mrange\u001b[39m(\u001b[38;5;241m0\u001b[39m, \u001b[38;5;241m72\u001b[39m, \u001b[38;5;241m72\u001b[39m)):\n\u001b[0;32m----> 2\u001b[0m     propag_numpy \u001b[38;5;241m=\u001b[39m \u001b[43mnp\u001b[49m\u001b[38;5;241;43m.\u001b[39;49m\u001b[43mload\u001b[49m\u001b[43m(\u001b[49m\u001b[38;5;124;43mf\u001b[39;49m\u001b[38;5;124;43m\"\u001b[39;49m\u001b[38;5;124;43m./beta6.20_mu-0.2770_ms-0.2400_L24x72_cfg_\u001b[39;49m\u001b[38;5;132;43;01m{\u001b[39;49;00m\u001b[43mcfg\u001b[49m\u001b[38;5;132;43;01m}\u001b[39;49;00m\u001b[38;5;124;43m_hyp0_gfixed3.light.tsrc_\u001b[39;49m\u001b[38;5;132;43;01m{\u001b[39;49;00m\u001b[43mtsrc\u001b[49m\u001b[38;5;132;43;01m:\u001b[39;49;00m\u001b[38;5;124;43m02d\u001b[39;49m\u001b[38;5;132;43;01m}\u001b[39;49;00m\u001b[38;5;124;43m.npy\u001b[39;49m\u001b[38;5;124;43m\"\u001b[39;49m\u001b[43m)\u001b[49m\n\u001b[1;32m      3\u001b[0m     pion_numpy[tidx] \u001b[38;5;241m=\u001b[39m contract(\n\u001b[1;32m      4\u001b[0m         \u001b[38;5;124m\"\u001b[39m\u001b[38;5;124mtzyxijab,jk,tzyxlkab,li->t\u001b[39m\u001b[38;5;124m\"\u001b[39m,\n\u001b[1;32m      5\u001b[0m         propag_numpy,\n\u001b[0;32m   (...)\u001b[0m\n\u001b[1;32m      8\u001b[0m         gamma_5 \u001b[38;5;241m@\u001b[39m gamma_5,\n\u001b[1;32m      9\u001b[0m     )\n",
      "File \u001b[0;32m~/.local/lib/python3.10/site-packages/numpy/lib/npyio.py:427\u001b[0m, in \u001b[0;36mload\u001b[0;34m(file, mmap_mode, allow_pickle, fix_imports, encoding, max_header_size)\u001b[0m\n\u001b[1;32m    425\u001b[0m     own_fid \u001b[38;5;241m=\u001b[39m \u001b[38;5;28;01mFalse\u001b[39;00m\n\u001b[1;32m    426\u001b[0m \u001b[38;5;28;01melse\u001b[39;00m:\n\u001b[0;32m--> 427\u001b[0m     fid \u001b[38;5;241m=\u001b[39m stack\u001b[38;5;241m.\u001b[39menter_context(\u001b[38;5;28;43mopen\u001b[39;49m\u001b[43m(\u001b[49m\u001b[43mos_fspath\u001b[49m\u001b[43m(\u001b[49m\u001b[43mfile\u001b[49m\u001b[43m)\u001b[49m\u001b[43m,\u001b[49m\u001b[43m \u001b[49m\u001b[38;5;124;43m\"\u001b[39;49m\u001b[38;5;124;43mrb\u001b[39;49m\u001b[38;5;124;43m\"\u001b[39;49m\u001b[43m)\u001b[49m)\n\u001b[1;32m    428\u001b[0m     own_fid \u001b[38;5;241m=\u001b[39m \u001b[38;5;28;01mTrue\u001b[39;00m\n\u001b[1;32m    430\u001b[0m \u001b[38;5;66;03m# Code to distinguish from NumPy binary files and pickles.\u001b[39;00m\n",
      "\u001b[0;31mFileNotFoundError\u001b[0m: [Errno 2] No such file or directory: './beta6.20_mu-0.2770_ms-0.2400_L24x72_cfg_10000_hyp0_gfixed3.light.tsrc_00.npy'"
     ]
    }
   ],
   "source": [
    "for tidx, tsrc in enumerate(range(0, 72, 72)):\n",
    "    propag_numpy = np.load(f\"./beta6.20_mu-0.2770_ms-0.2400_L24x72_cfg_{cfg}_hyp0_gfixed3.light.tsrc_{tsrc:02d}.npy\")\n",
    "    pion_numpy[tidx] = contract(\n",
    "        \"tzyxijab,jk,tzyxlkab,li->t\",\n",
    "        propag_numpy,\n",
    "        gamma_5 @ gamma_5,\n",
    "        propag_numpy.conj(),\n",
    "        gamma_5 @ gamma_5,\n",
    "    )"
   ]
  },
  {
   "cell_type": "code",
   "execution_count": null,
   "metadata": {},
   "outputs": [],
   "source": [
    "for tidx, tsrc in enumerate(range(0, 72, 72)):\n",
    "    propag_cupy = cp.load(f\"./beta6.20_mu-0.2770_ms-0.2400_L24x72_cfg_{cfg}_hyp0_gfixed3.light.tsrc_{tsrc:02d}.npy\")\n",
    "    pion_cupy[tidx] = contract(\n",
    "        \"tzyxijab,jk,tzyxlkab,li->t\",\n",
    "        propag_cupy,\n",
    "        cp.array(gamma_5 @ gamma_5),\n",
    "        propag_cupy.conj(),\n",
    "        cp.array(gamma_5 @ gamma_5),\n",
    "    )"
   ]
  },
  {
   "cell_type": "markdown",
   "metadata": {},
   "source": [
    "#### 2.1.2 $C(t)$\n",
    "\n",
    "$$\n",
    "C(t)=\\frac{1}{N_{t_0}}\\sum_{t_0}C_{t_0}(t_0+t)=\\frac{1}{N_{t_0}}\\sum_{t_0}C'_{t_0}(t)\n",
    "$$\n",
    "\n",
    "$$\n",
    "C'_{t_0}(t)=C_{t_0}(t_0+t)\n",
    "$$\n",
    "\n",
    "`numpy.roll` 或 `cupy.roll` 可以将数据沿着某个轴进行平移，并进行周期性的扩展。"
   ]
  },
  {
   "cell_type": "code",
   "execution_count": null,
   "metadata": {},
   "outputs": [
    {
     "name": "stdout",
     "output_type": "stream",
     "text": [
      "[ 0  1  2  3  4  5  6  7  8  9 10 11]\n",
      "[ 1  2  3  4  5  6  7  8  9 10 11  0]\n",
      "[ 4  5  6  7  8  9 10 11  0  1  2  3]\n"
     ]
    }
   ],
   "source": [
    "print(np.arange(12))\n",
    "print(np.roll(np.arange(12), -1, 0))\n",
    "print(np.roll(np.arange(12), -4, 0))"
   ]
  },
  {
   "cell_type": "code",
   "execution_count": null,
   "metadata": {},
   "outputs": [],
   "source": [
    "for tidx, tsrc in enumerate(range(0, 72, 18)):\n",
    "    pion_numpy[tidx] = np.roll(pion_numpy[tidx], -tsrc, 0)\n",
    "pion_numpy_tsrc_mean = pion_numpy.mean(0)"
   ]
  },
  {
   "cell_type": "code",
   "execution_count": null,
   "metadata": {},
   "outputs": [],
   "source": [
    "for tidx, tsrc in enumerate(range(0, 72, 18)):\n",
    "    pion_cupy[tidx] = cp.roll(pion_cupy[tidx], -tsrc, 0)\n",
    "pion_cupy_tsrc_mean = pion_cupy.mean(0)"
   ]
  },
  {
   "cell_type": "code",
   "execution_count": null,
   "metadata": {},
   "outputs": [
    {
     "data": {
      "text/plain": [
       "array([379116.43736879+0.j, 286375.73683229+0.j, 228801.42281157+0.j,\n",
       "       184919.01309735+0.j, 152465.37024386+0.j, 134413.50789895+0.j,\n",
       "       118356.19636203+0.j,  97286.86604439+0.j,  76100.68345687+0.j,\n",
       "        59145.16206988+0.j,  46103.61021343+0.j,  37906.1328164 +0.j,\n",
       "        32229.44611697+0.j,  27475.26812304+0.j,  22694.08554711+0.j,\n",
       "        17927.17556702+0.j,  14262.82931735+0.j,  11772.58189565+0.j,\n",
       "         9570.3241615 +0.j,   8038.18061352+0.j,   7157.95664776+0.j,\n",
       "         6594.95396009+0.j,   5621.4525571 +0.j,   4687.52760241+0.j,\n",
       "         3887.14139598+0.j,   3350.89539218+0.j,   2904.02345524+0.j,\n",
       "         2627.12902435+0.j,   2442.54423056+0.j,   2296.29660764+0.j,\n",
       "         2149.2386838 +0.j,   2125.79121242+0.j,   2091.36431231+0.j,\n",
       "         1894.11479544+0.j,   1641.0779919 +0.j,   1472.19319008+0.j,\n",
       "         1351.00134696+0.j,   1276.39055597+0.j,   1281.33492513+0.j,\n",
       "         1390.74428753+0.j,   1528.92440687+0.j,   1611.303664  +0.j,\n",
       "         1714.01847645+0.j,   1819.42083303+0.j,   2056.1688595 +0.j,\n",
       "         2416.27255116+0.j,   2822.81009895+0.j,   3434.72744589+0.j,\n",
       "         4005.19083687+0.j,   4602.70019301+0.j,   5317.31132728+0.j,\n",
       "         6252.12388771+0.j,   7556.42209475+0.j,   9164.58307924+0.j,\n",
       "        10908.44322392+0.j,  12857.25204418+0.j,  15508.43291484+0.j,\n",
       "        19369.847298  +0.j,  24386.11235915+0.j,  31321.84193542+0.j,\n",
       "        40256.61296075+0.j,  48704.16699424+0.j,  54748.51520417+0.j,\n",
       "        61704.43928865+0.j,  72577.38429506+0.j,  89348.33521116+0.j,\n",
       "       108656.29768492+0.j, 133047.51377798+0.j, 163025.30570927+0.j,\n",
       "       204231.56693024+0.j, 255527.94026957+0.j, 310427.57101576+0.j])"
      ]
     },
     "execution_count": 18,
     "metadata": {},
     "output_type": "execute_result"
    }
   ],
   "source": [
    "pion_numpy[0]"
   ]
  },
  {
   "cell_type": "code",
   "execution_count": null,
   "metadata": {},
   "outputs": [
    {
     "data": {
      "text/plain": [
       "[<matplotlib.lines.Line2D at 0x7ffacf1a1e50>]"
      ]
     },
     "execution_count": 19,
     "metadata": {},
     "output_type": "execute_result"
    },
    {
     "data": {
      "image/png": "[encoded data removed]",
      "text/plain": [
       "<Figure size 640x480 with 1 Axes>"
      ]
     },
     "metadata": {},
     "output_type": "display_data"
    }
   ],
   "source": [
    "plt.semilogy(np.arange(72), pion_cupy[0].get().real, \",-\")"
   ]
  },
  {
   "cell_type": "markdown",
   "metadata": {},
   "source": [
    "### 2.2 $N$ 质子两点关联函数\n",
    "\n",
    "$$\n",
    "C=i\\gamma_2\\gamma_4,\\;P^+=\\frac{1}{2}\\left(\\mathbb{I}+\\gamma_4\\right)\n",
    "$$\n"
   ]
  },
  {
   "cell_type": "markdown",
   "metadata": {},
   "source": [
    "#### 2.2.1 $C_{t_0}(t)$\n",
    "\n",
    "需要计算\n",
    "$$\n",
    "\\begin{aligned}\n",
    "C_{t_0}(t)=&\\sum_{z,y,x,a,a',b,b',c,c',\\alpha,\\alpha',\\beta,\\beta',\\sigma,\\sigma'}\\left(C\\gamma_5\\right)_{\\alpha\\beta}\\left(C\\gamma_5\\right)_{\\alpha'\\beta'}\\epsilon_{abc}\\epsilon_{a'b'c'}\\left(P^+\\right)_{\\sigma\\sigma'}\\\\\n",
    "&G^u(t,z,y,x,\\alpha,a;t_0,z_0,y_0,x_0,\\alpha',a')G^d(t,z,y,x,\\beta,b;t_0,z_0,y_0,x_0,\\beta',b')G^u(t,z,y,x,\\sigma,c;t_0,z_0,y_0,x_0,\\sigma',c')\\\\\n",
    "&-\\sum_{z,y,x,a,a',b,b',c,c',\\alpha,\\alpha',\\beta,\\beta',\\sigma,\\sigma'}\\left(C\\gamma_5\\right)_{\\alpha\\beta}\\left(C\\gamma_5\\right)_{\\alpha'\\beta'}\\epsilon_{abc}\\epsilon_{a'b'c'}\\left(P^+\\right)_{\\sigma\\sigma'}\\\\\n",
    "&G^u(t,z,y,x,\\alpha,a;t_0,z_0,y_0,x_0,\\sigma',c')G^d(t,z,y,x,\\beta,b;t_0,z_0,y_0,x_0,\\beta',b')G^u(t,z,y,x,\\sigma,c;t_0,z_0,y_0,x_0,\\alpha',a')\\\\\n",
    "=&\\sum_{z,y,x,a,a',b,b',c,c',\\alpha,\\alpha',\\beta,\\beta',\\sigma,\\sigma'}\\left(C\\gamma_5\\right)_{\\alpha\\beta}\\left(C\\gamma_5\\right)_{\\alpha'\\beta'}\\epsilon_{abc}\\epsilon_{a'b'c'}\\left(P^+\\right)_{\\sigma\\sigma'}S(t,z,y,x,\\alpha,\\alpha',a,a')S(t,z,y,x,\\beta,\\beta',b,b')S(t,z,y,x,\\sigma,\\sigma',c,c')\\\\\n",
    "&-\\sum_{z,y,x,a,a',b,b',c,c',\\alpha,\\alpha',\\beta,\\beta',\\sigma,\\sigma'}\\left(C\\gamma_5\\right)_{\\alpha\\beta}\\left(C\\gamma_5\\right)_{\\alpha'\\beta'}\\epsilon_{abc}\\epsilon_{a'b'c'}\\left(P^+\\right)_{\\sigma\\sigma'}S(t,z,y,x,\\alpha,\\sigma',a,c')S(t,z,y,x,\\beta,\\beta',b,b')S(t,z,y,x,\\sigma,\\alpha',c,a')\\\\\n",
    "=&\\sum_{z,y,x,a,b,c,d,e,f,i,j,k,l,m,n}\\left(C\\gamma_5\\right)_{ij}\\left(C\\gamma_5\\right)_{kl}\\epsilon_{abc}\\epsilon_{def}\\left(P^+\\right)_{mn}S(t,z,y,x,i,k,a,d)S(t,z,y,x,j,l,b,e)S(t,z,y,x,m,n,c,f)\\\\\n",
    "&-\\sum_{z,y,x,a,b,c,d,e,f,i,j,k,l,m,n}\\left(C\\gamma_5\\right)_{ij}\\left(C\\gamma_5\\right)_{kl}\\epsilon_{abc}\\epsilon_{def}\\left(P^+\\right)_{\\sigma\\sigma'}S(t,z,y,x,i,n,a,f)S(t,z,y,x,j,l,b,e)S(t,z,y,x,m,k,c,d)\\\\\n",
    "\\end{aligned}\n",
    "$$"
   ]
  },
  {
   "cell_type": "code",
   "execution_count": null,
   "metadata": {},
   "outputs": [],
   "source": [
    "for tidx, tsrc in enumerate(range(0, 72, 72)):\n",
    "    propag_numpy = np.load(f\"./beta6.20_mu-0.2770_ms-0.2400_L24x72_cfg_{cfg}_hyp0_gfixed3.light.tsrc_{tsrc:02d}.npy\")\n",
    "    proton_numpy[tidx] = contract(\n",
    "        \"ij,kl,abc,def,mn,tzyxikad,tzyxjlbe,tzyxmncf->t\",\n",
    "        C @ gamma_5,\n",
    "        C @ gamma_5,\n",
    "        epsilon,\n",
    "        epsilon,\n",
    "        P,\n",
    "        propag_numpy,\n",
    "        propag_numpy,\n",
    "        propag_numpy,\n",
    "    )\n",
    "    proton_numpy[tidx] -= contract(\n",
    "        \"ij,kl,abc,def,mn,tzyxinaf,tzyxjlbe,tzyxmkcd->t\",\n",
    "        C @ gamma_5,\n",
    "        C @ gamma_5,\n",
    "        epsilon,\n",
    "        epsilon,\n",
    "        P,\n",
    "        propag_numpy,\n",
    "        propag_numpy,\n",
    "        propag_numpy,\n",
    "    )"
   ]
  },
  {
   "cell_type": "code",
   "execution_count": null,
   "metadata": {},
   "outputs": [],
   "source": [
    "# proton_numpy[tidx] = contract(\n",
    "#     \"ij,kl,abc,def,mn,tzyxikad,tzyxjlbe,tzyxmncf->t\",\n",
    "#     C @ gamma_5,\n",
    "#     C @ gamma_5,\n",
    "#     epsilon,\n",
    "#     epsilon,\n",
    "#     P,\n",
    "#     propag_numpy,\n",
    "#     propag_numpy,\n",
    "#     propag_numpy,\n",
    "# )\n",
    "\n",
    "# There are 2 extra terms, don't use it directely\n",
    "# for a in range(3):\n",
    "#     b, c = (a + 1) % 3, (a + 2) % 3\n",
    "#     for d in range(3):\n",
    "#         e, f = (d + 1) % 3, (d + 2) % 3\n",
    "#         proton_numpy[tidx] += contract(\n",
    "#             \"ij,kl,mn,tzyxik,tzyxjl,tzyxmn->t\",\n",
    "#             C @ gamma_5,\n",
    "#             C @ gamma_5,\n",
    "#             P,\n",
    "#             propag_numpy[:, :, :, :, :, :, a, d],\n",
    "#             propag_numpy[:, :, :, :, :, :, b, e],\n",
    "#             propag_numpy[:, :, :, :, :, :, c, f],\n",
    "#         )\n",
    "#         proton_numpy[tidx] += contract(\n",
    "#             \"ij,kl,mn,tzyxik,tzyxjl,tzyxmn->t\",\n",
    "#             C @ gamma_5,\n",
    "#             C @ gamma_5,\n",
    "#             P,\n",
    "#             propag_numpy[:, :, :, :, :, :, a, d],\n",
    "#             propag_numpy[:, :, :, :, :, :, c, f],\n",
    "#             propag_numpy[:, :, :, :, :, :, b, e],\n",
    "#         )"
   ]
  },
  {
   "cell_type": "code",
   "execution_count": null,
   "metadata": {},
   "outputs": [],
   "source": [
    "for tidx, tsrc in enumerate(range(0, 72, 72)):\n",
    "    propag_cupy = cp.load(f\"./beta6.20_mu-0.2770_ms-0.2400_L24x72_cfg_{cfg}_hyp0_gfixed3.light.tsrc_{tsrc:02d}.npy\")\n",
    "    proton_cupy[tidx] = contract(\n",
    "        \"ij,kl,abc,def,mn,tzyxikad,tzyxjlbe,tzyxmncf->t\",\n",
    "        cp.array(C @ gamma_5),\n",
    "        cp.array(C @ gamma_5),\n",
    "        cp.array(epsilon),\n",
    "        cp.array(epsilon),\n",
    "        cp.array(P),\n",
    "        propag_cupy,\n",
    "        propag_cupy,\n",
    "        propag_cupy,\n",
    "    )\n",
    "    proton_cupy[tidx] -= contract(\n",
    "        \"ij,kl,abc,def,mn,tzyxinaf,tzyxjlbe,tzyxmkcd->t\",\n",
    "        cp.array(C @ gamma_5),\n",
    "        cp.array(C @ gamma_5),\n",
    "        cp.array(epsilon),\n",
    "        cp.array(epsilon),\n",
    "        cp.array(P),\n",
    "        propag_cupy,\n",
    "        propag_cupy,\n",
    "        propag_cupy,\n",
    "    )"
   ]
  },
  {
   "cell_type": "markdown",
   "metadata": {},
   "source": [
    "#### 2.2.2 $C(t)$"
   ]
  },
  {
   "cell_type": "code",
   "execution_count": null,
   "metadata": {},
   "outputs": [],
   "source": [
    "for tidx, tsrc in enumerate(range(0, 72, 18)):\n",
    "    proton_numpy[tidx] = np.roll(proton_numpy[tidx], -tsrc, 0)\n",
    "proton_numpy_tsrc_mean = proton_numpy.mean(0)"
   ]
  },
  {
   "cell_type": "code",
   "execution_count": null,
   "metadata": {},
   "outputs": [],
   "source": [
    "for tidx, tsrc in enumerate(range(0, 72, 18)):\n",
    "    pion_cupy[tidx] = cp.roll(pion_cupy[tidx], -tsrc, 0)\n",
    "proton_cupy_tsrc_mean = proton_cupy.mean(0)"
   ]
  },
  {
   "cell_type": "code",
   "execution_count": null,
   "metadata": {},
   "outputs": [],
   "source": [
    "plt.semilogy(np.arange(72), proton_numpy[0].real, \",-\")"
   ]
  },
  {
   "cell_type": "markdown",
   "metadata": {},
   "source": [
    "#### 2.2.3 $N$ 质子特殊情况"
   ]
  },
  {
   "cell_type": "code",
   "execution_count": null,
   "metadata": {},
   "outputs": [
    {
     "name": "stdout",
     "output_type": "stream",
     "text": [
      "(39, 4, 72)\n"
     ]
    }
   ],
   "source": [
    "proton_all = np.load(\"./proton.npy\")\n",
    "print(proton_all.shape)"
   ]
  },
  {
   "cell_type": "code",
   "execution_count": null,
   "metadata": {},
   "outputs": [
    {
     "data": {
      "text/plain": [
       "[<matplotlib.lines.Line2D at 0x7f55a5c8c990>]"
      ]
     },
     "execution_count": 24,
     "metadata": {},
     "output_type": "execute_result"
    },
    {
     "data": {
      "image/png": "[encoded data removed]",
      "text/plain": [
       "<Figure size 640x480 with 1 Axes>"
      ]
     },
     "metadata": {},
     "output_type": "display_data"
    }
   ],
   "source": [
    "proton_all[:, 0, 36:] *= -1\n",
    "proton_all[:, 1, 54:] *= -1\n",
    "proton_all[:, 3, 18:] *= -1\n",
    "for tidx, tsrc in enumerate(range(0, 72, 18)):\n",
    "    proton_all[:, tidx] = np.roll(proton_all[:, tidx], -tsrc, 1)\n",
    "plt.plot(np.arange(72), proton_all.real.mean((0, 1)))"
   ]
  },
  {
   "cell_type": "code",
   "execution_count": null,
   "metadata": {},
   "outputs": [
    {
     "data": {
      "image/png": "[encoded data removed]",
      "text/plain": [
       "<Figure size 640x480 with 1 Axes>"
      ]
     },
     "metadata": {},
     "output_type": "display_data"
    }
   ],
   "source": [
    "proton_all_tsrc_mean = proton_all.mean(1)\n",
    "proton_all_tsrc_mean[:, 36:] *= -1\n",
    "plt.errorbar(np.arange(72), proton_all_tsrc_mean.real.mean(0), proton_all_tsrc_mean.real.std(0) / 38**0.5, fmt=\"x\")\n",
    "plt.yscale(\"log\")"
   ]
  },
  {
   "cell_type": "code",
   "execution_count": null,
   "metadata": {},
   "outputs": [],
   "source": []
  }
 ],
 "metadata": {
  "kernelspec": {
   "display_name": ".venv",
   "language": "python",
   "name": "python3"
  },
  "language_info": {
   "codemirror_mode": {
    "name": "ipython",
    "version": 3
   },
   "file_extension": ".py",
   "mimetype": "text/x-python",
   "name": "python",
   "nbconvert_exporter": "python",
   "pygments_lexer": "ipython3",
   "version": "3.10.12"
  }
 },
 "nbformat": 4,
 "nbformat_minor": 2
}
